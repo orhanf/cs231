{
 "metadata": {
  "name": "",
  "signature": "sha256:bd9b6754c8e8fbf29e73377ae44f3019ae989ce1938884188c6e163ade93794e"
 },
 "nbformat": 3,
 "nbformat_minor": 0,
 "worksheets": [
  {
   "cells": [
    {
     "cell_type": "markdown",
     "metadata": {},
     "source": [
      "# Dropout and Data Augmentation\n",
      "In this exercise we will implement two ways to reduce overfitting.\n",
      "\n",
      "Like the previous assignment, we will train ConvNets to recognize the categories in CIFAR-10. However unlike the previous assignment where we used 49,000 images for training, in this exercise we will use just 500 images for training.\n",
      "\n",
      "If we try to train a high-capacity model like a ConvNet on this small amount of data, we expect to overfit, and end up with a solution that does not generalize. We will see that we can drastically reduce overfitting by using dropout and data augmentation."
     ]
    },
    {
     "cell_type": "code",
     "collapsed": false,
     "input": [
      "# A bit of setup\n",
      "\n",
      "import numpy as np\n",
      "import matplotlib.pyplot as plt\n",
      "from time import time\n",
      "from cs231n.layers import *\n",
      "from cs231n.fast_layers import *\n",
      "\n",
      "%matplotlib inline\n",
      "plt.rcParams['figure.figsize'] = (10.0, 8.0) # set default size of plots\n",
      "plt.rcParams['image.interpolation'] = 'nearest'\n",
      "plt.rcParams['image.cmap'] = 'gray'\n",
      "\n",
      "# for auto-reloading extenrnal modules\n",
      "# see http://stackoverflow.com/questions/1907993/autoreload-of-modules-in-ipython\n",
      "%load_ext autoreload\n",
      "%autoreload 2\n",
      "\n",
      "def rel_error(x, y):\n",
      "    \"\"\" returns relative error \"\"\"\n",
      "    return np.max(np.abs(x - y) / (np.maximum(1e-8, np.abs(x) + np.abs(y))))"
     ],
     "language": "python",
     "metadata": {},
     "outputs": [],
     "prompt_number": 1
    },
    {
     "cell_type": "markdown",
     "metadata": {},
     "source": [
      "# Load data\n",
      "For this exercise our training set will contain 500 images and our validation and test sets will contain 1000 images as usual."
     ]
    },
    {
     "cell_type": "code",
     "collapsed": false,
     "input": [
      "from cs231n.data_utils import load_CIFAR10\n",
      "\n",
      "def get_CIFAR10_data(num_training=500, num_validation=1000, num_test=1000, normalize=True):\n",
      "    \"\"\"\n",
      "    Load the CIFAR-10 dataset from disk and perform preprocessing to prepare\n",
      "    it for the two-layer neural net classifier. These are the same steps as\n",
      "    we used for the SVM, but condensed to a single function.  \n",
      "    \"\"\"\n",
      "    # Load the raw CIFAR-10 data\n",
      "    cifar10_dir = 'cs231n/datasets/cifar-10-batches-py'\n",
      "    X_train, y_train, X_test, y_test = load_CIFAR10(cifar10_dir)\n",
      "    print X_train.shape\n",
      "    # Subsample the data\n",
      "    mask = range(num_training, num_training + num_validation)\n",
      "    X_val = X_train[mask]\n",
      "    y_val = y_train[mask]\n",
      "    mask = range(num_training)\n",
      "    X_train = X_train[mask]\n",
      "    y_train = y_train[mask]\n",
      "    mask = range(num_test)\n",
      "    X_test = X_test[mask]\n",
      "    y_test = y_test[mask]\n",
      "\n",
      "    # Normalize the data: subtract the mean image\n",
      "    if normalize:\n",
      "        mean_image = np.mean(X_train, axis=0)\n",
      "        X_train -= mean_image\n",
      "        X_val -= mean_image\n",
      "        X_test -= mean_image\n",
      "    \n",
      "    # Transpose so that channels come first\n",
      "    X_train = X_train.transpose(0, 3, 1, 2).copy()\n",
      "    X_val = X_val.transpose(0, 3, 1, 2).copy()\n",
      "    X_test = X_test.transpose(0, 3, 1, 2).copy()\n",
      "\n",
      "    return X_train, y_train, X_val, y_val, X_test, y_test\n",
      "\n",
      "\n",
      "# Invoke the above function to get our data.\n",
      "X_train, y_train, X_val, y_val, X_test, y_test = get_CIFAR10_data(num_training=500)\n",
      "print 'Train data shape: ', X_train.shape\n",
      "print 'Train labels shape: ', y_train.shape\n",
      "print 'Validation data shape: ', X_val.shape\n",
      "print 'Validation labels shape: ', y_val.shape\n",
      "print 'Test data shape: ', X_test.shape\n",
      "print 'Test labels shape: ', y_test.shape"
     ],
     "language": "python",
     "metadata": {},
     "outputs": [
      {
       "output_type": "stream",
       "stream": "stdout",
       "text": [
        "[500, 501, 502, 503, 504, 505, 506, 507, 508, 509, 510, 511, 512, 513, 514, 515, 516, 517, 518, 519, 520, 521, 522, 523, 524, 525, 526, 527, 528, 529, 530, 531, 532, 533, 534, 535, 536, 537, 538, 539, 540, 541, 542, 543, 544, 545, 546, 547, 548, 549, 550, 551, 552, 553, 554, 555, 556, 557, 558, 559, 560, 561, 562, 563, 564, 565, 566, 567, 568, 569, 570, 571, 572, 573, 574, 575, 576, 577, 578, 579, 580, 581, 582, 583, 584, 585, 586, 587, 588, 589, 590, 591, 592, 593, 594, 595, 596, 597, 598, 599, 600, 601, 602, 603, 604, 605, 606, 607, 608, 609, 610, 611, 612, 613, 614, 615, 616, 617, 618, 619, 620, 621, 622, 623, 624, 625, 626, 627, 628, 629, 630, 631, 632, 633, 634, 635, 636, 637, 638, 639, 640, 641, 642, 643, 644, 645, 646, 647, 648, 649, 650, 651, 652, 653, 654, 655, 656, 657, 658, 659, 660, 661, 662, 663, 664, 665, 666, 667, 668, 669, 670, 671, 672, 673, 674, 675, 676, 677, 678, 679, 680, 681, 682, 683, 684, 685, 686, 687, 688, 689, 690, 691, 692, 693, 694, 695, 696, 697, 698, 699, 700, 701, 702, 703, 704, 705, 706, 707, 708, 709, 710, 711, 712, 713, 714, 715, 716, 717, 718, 719, 720, 721, 722, 723, 724, 725, 726, 727, 728, 729, 730, 731, 732, 733, 734, 735, 736, 737, 738, 739, 740, 741, 742, 743, 744, 745, 746, 747, 748, 749, 750, 751, 752, 753, 754, 755, 756, 757, 758, 759, 760, 761, 762, 763, 764, 765, 766, 767, 768, 769, 770, 771, 772, 773, 774, 775, 776, 777, 778, 779, 780, 781, 782, 783, 784, 785, 786, 787, 788, 789, 790, 791, 792, 793, 794, 795, 796, 797, 798, 799, 800, 801, 802, 803, 804, 805, 806, 807, 808, 809, 810, 811, 812, 813, 814, 815, 816, 817, 818, 819, 820, 821, 822, 823, 824, 825, 826, 827, 828, 829, 830, 831, 832, 833, 834, 835, 836, 837, 838, 839, 840, 841, 842, 843, 844, 845, 846, 847, 848, 849, 850, 851, 852, 853, 854, 855, 856, 857, 858, 859, 860, 861, 862, 863, 864, 865, 866, 867, 868, 869, 870, 871, 872, 873, 874, 875, 876, 877, 878, 879, 880, 881, 882, 883, 884, 885, 886, 887, 888, 889, 890, 891, 892, 893, 894, 895, 896, 897, 898, 899, 900, 901, 902, 903, 904, 905, 906, 907, 908, 909, 910, 911, 912, 913, 914, 915, 916, 917, 918, 919, 920, 921, 922, 923, 924, 925, 926, 927, 928, 929, 930, 931, 932, 933, 934, 935, 936, 937, 938, 939, 940, 941, 942, 943, 944, 945, 946, 947, 948, 949, 950, 951, 952, 953, 954, 955, 956, 957, 958, 959, 960, 961, 962, 963, 964, 965, 966, 967, 968, 969, 970, 971, 972, 973, 974, 975, 976, 977, 978, 979, 980, 981, 982, 983, 984, 985, 986, 987, 988, 989, 990, 991, 992, 993, 994, 995, 996, 997, 998, 999, 1000, 1001, 1002, 1003, 1004, 1005, 1006, 1007, 1008, 1009, 1010, 1011, 1012, 1013, 1014, 1015, 1016, 1017, 1018, 1019, 1020, 1021, 1022, 1023, 1024, 1025, 1026, 1027, 1028, 1029, 1030, 1031, 1032, 1033, 1034, 1035, 1036, 1037, 1038, 1039, 1040, 1041, 1042, 1043, 1044, 1045, 1046, 1047, 1048, 1049, 1050, 1051, 1052, 1053, 1054, 1055, 1056, 1057, 1058, 1059, 1060, 1061, 1062, 1063, 1064, 1065, 1066, 1067, 1068, 1069, 1070, 1071, 1072, 1073, 1074, 1075, 1076, 1077, 1078, 1079, 1080, 1081, 1082, 1083, 1084, 1085, 1086, 1087, 1088, 1089, 1090, 1091, 1092, 1093, 1094, 1095, 1096, 1097, 1098, 1099, 1100, 1101, 1102, 1103, 1104, 1105, 1106, 1107, 1108, 1109, 1110, 1111, 1112, 1113, 1114, 1115, 1116, 1117, 1118, 1119, 1120, 1121, 1122, 1123, 1124, 1125, 1126, 1127, 1128, 1129, 1130, 1131, 1132, 1133, 1134, 1135, 1136, 1137, 1138, 1139, 1140, 1141, 1142, 1143, 1144, 1145, 1146, 1147, 1148, 1149, 1150, 1151, 1152, 1153, 1154, 1155, 1156, 1157, 1158, 1159, 1160, 1161, 1162, 1163, 1164, 1165, 1166, 1167, 1168, 1169, 1170, 1171, 1172, 1173, 1174, 1175, 1176, 1177, 1178, 1179, 1180, 1181, 1182, 1183, 1184, 1185, 1186, 1187, 1188, 1189, 1190, 1191, 1192, 1193, 1194, 1195, 1196, 1197, 1198, 1199, 1200, 1201, 1202, 1203, 1204, 1205, 1206, 1207, 1208, 1209, 1210, 1211, 1212, 1213, 1214, 1215, 1216, 1217, 1218, 1219, 1220, 1221, 1222, 1223, 1224, 1225, 1226, 1227, 1228, 1229, 1230, 1231, 1232, 1233, 1234, 1235, 1236, 1237, 1238, 1239, 1240, 1241, 1242, 1243, 1244, 1245, 1246, 1247, 1248, 1249, 1250, 1251, 1252, 1253, 1254, 1255, 1256, 1257, 1258, 1259, 1260, 1261, 1262, 1263, 1264, 1265, 1266, 1267, 1268, 1269, 1270, 1271, 1272, 1273, 1274, 1275, 1276, 1277, 1278, 1279, 1280, 1281, 1282, 1283, 1284, 1285, 1286, 1287, 1288, 1289, 1290, 1291, 1292, 1293, 1294, 1295, 1296, 1297, 1298, 1299, 1300, 1301, 1302, 1303, 1304, 1305, 1306, 1307, 1308, 1309, 1310, 1311, 1312, 1313, 1314, 1315, 1316, 1317, 1318, 1319, 1320, 1321, 1322, 1323, 1324, 1325, 1326, 1327, 1328, 1329, 1330, 1331, 1332, 1333, 1334, 1335, 1336, 1337, 1338, 1339, 1340, 1341, 1342, 1343, 1344, 1345, 1346, 1347, 1348, 1349, 1350, 1351, 1352, 1353, 1354, 1355, 1356, 1357, 1358, 1359, 1360, 1361, 1362, 1363, 1364, 1365, 1366, 1367, 1368, 1369, 1370, 1371, 1372, 1373, 1374, 1375, 1376, 1377, 1378, 1379, 1380, 1381, 1382, 1383, 1384, 1385, 1386, 1387, 1388, 1389, 1390, 1391, 1392, 1393, 1394, 1395, 1396, 1397, 1398, 1399, 1400, 1401, 1402, 1403, 1404, 1405, 1406, 1407, 1408, 1409, 1410, 1411, 1412, 1413, 1414, 1415, 1416, 1417, 1418, 1419, 1420, 1421, 1422, 1423, 1424, 1425, 1426, 1427, 1428, 1429, 1430, 1431, 1432, 1433, 1434, 1435, 1436, 1437, 1438, 1439, 1440, 1441, 1442, 1443, 1444, 1445, 1446, 1447, 1448, 1449, 1450, 1451, 1452, 1453, 1454, 1455, 1456, 1457, 1458, 1459, 1460, 1461, 1462, 1463, 1464, 1465, 1466, 1467, 1468, 1469, 1470, 1471, 1472, 1473, 1474, 1475, 1476, 1477, 1478, 1479, 1480, 1481, 1482, 1483, 1484, 1485, 1486, 1487, 1488, 1489, 1490, 1491, 1492, 1493, 1494, 1495, 1496, 1497, 1498, 1499]\n",
        "Train data shape: "
       ]
      },
      {
       "output_type": "stream",
       "stream": "stdout",
       "text": [
        " (500, 3, 32, 32)\n",
        "Train labels shape:  (500,)\n",
        "Validation data shape:  (1000, 3, 32, 32)\n",
        "Validation labels shape:  (1000,)\n",
        "Test data shape:  (1000, 3, 32, 32)\n",
        "Test labels shape:  (1000,)\n"
       ]
      }
     ],
     "prompt_number": 2
    },
    {
     "cell_type": "markdown",
     "metadata": {},
     "source": [
      "# Overfit\n",
      "Now that we've loaded our data, we will attempt to train a three layer convnet on this data. The three layer convnet has the architecture\n",
      "\n",
      "`conv - relu - pool - affine - relu - affine - softmax`\n",
      "\n",
      "We will use 32 5x5 filters, and our hidden affine layer will have 128 neurons.\n",
      "\n",
      "This is a very expressive model given that we have only 500 training samples, so we should expect to massively overfit this dataset, and achieve a training accuracy of nearly 0.9 with a much lower validation accuracy."
     ]
    },
    {
     "cell_type": "code",
     "collapsed": false,
     "input": [
      "from cs231n.classifiers.convnet import *\n",
      "from cs231n.classifier_trainer import ClassifierTrainer\n",
      "\n",
      "model = init_three_layer_convnet(filter_size=5, num_filters=(32, 128))\n",
      "trainer = ClassifierTrainer()\n",
      "best_model, loss_history, train_acc_history, val_acc_history = trainer.train(\n",
      "          X_train, y_train, X_val, y_val, model, three_layer_convnet, dropout=None,\n",
      "          reg=0.05, learning_rate=0.00005, batch_size=50, num_epochs=15,\n",
      "          learning_rate_decay=1.0, update='rmsprop', verbose=True)"
     ],
     "language": "python",
     "metadata": {},
     "outputs": []
    },
    {
     "cell_type": "code",
     "collapsed": false,
     "input": [
      "# Visualize the loss and accuracy for our network trained on a small dataset\n",
      "\n",
      "plt.subplot(2, 1, 1)\n",
      "plt.plot(train_acc_history)\n",
      "plt.plot(val_acc_history)\n",
      "plt.title('accuracy vs time')\n",
      "plt.legend(['train', 'val'], loc=4)\n",
      "plt.xlabel('epoch')\n",
      "plt.ylabel('classification accuracy')\n",
      "\n",
      "plt.subplot(2, 1, 2)\n",
      "plt.plot(loss_history)\n",
      "plt.title('loss vs time')\n",
      "plt.xlabel('iteration')\n",
      "plt.ylabel('loss')\n",
      "plt.show()"
     ],
     "language": "python",
     "metadata": {},
     "outputs": []
    },
    {
     "cell_type": "markdown",
     "metadata": {},
     "source": [
      "# Dropout\n",
      "The first way we will reduce overfitting is to use dropout.\n",
      "\n",
      "Open the file `cs231n/layers.py` and implement the `dropout_forward` and `dropout_backward` functions. We can check the forward pass by looking at the statistics of the outputs in train and test modes, and we can check the backward pass using numerical gradient checking."
     ]
    },
    {
     "cell_type": "code",
     "collapsed": false,
     "input": [
      "# Check the dropout forward pass\n",
      "\n",
      "x = np.random.randn(100, 100)\n",
      "dropout_param_train = {'p': 0.25, 'mode': 'train'}\n",
      "dropout_param_test = {'p': 0.25, 'mode': 'test'}\n",
      "\n",
      "out_train, _ = dropout_forward(x, dropout_param_train)\n",
      "out_test, _ = dropout_forward(x, dropout_param_test)\n",
      "\n",
      "# Test dropout training mode; about 25% of the elements should be nonzero\n",
      "print np.mean(out_train != 0)\n",
      "\n",
      "# Test dropout test mode; all of the elements should be nonzero\n",
      "print np.mean(out_test != 0)"
     ],
     "language": "python",
     "metadata": {},
     "outputs": []
    },
    {
     "cell_type": "code",
     "collapsed": false,
     "input": [
      "from cs231n.gradient_check import eval_numerical_gradient_array\n",
      "\n",
      "# Check the dropout backward pass\n",
      "\n",
      "x = np.random.randn(5, 4)\n",
      "dout = np.random.randn(*x.shape)\n",
      "dropout_param = {'p': 0.8, 'mode': 'train', 'seed': 123}\n",
      "\n",
      "dx_num = eval_numerical_gradient_array(lambda x: dropout_forward(x, dropout_param)[0], x, dout)\n",
      "\n",
      "_, cache = dropout_forward(x, dropout_param)\n",
      "dx = dropout_backward(dout, cache)\n",
      "\n",
      "# The error should be around 1e-12\n",
      "print 'Testing dropout_backward function:'\n",
      "print 'dx error: ', rel_error(dx_num, dx)"
     ],
     "language": "python",
     "metadata": {},
     "outputs": []
    },
    {
     "cell_type": "markdown",
     "metadata": {},
     "source": [
      "# Data Augmentation\n",
      "The next way we will reduce overfitting is to implement data augmentation. Since we have very little training data, we will use what little training data we have to generate artificial data, and use this artificial data to train our network.\n",
      "\n",
      "CIFAR-10 images are 32x32, and up until this point we have used the entire image as input to our convnets. Now we will do something different: our convnet will expect a smaller input (say 28x28). Instead of feeding our training images directly to the convnet, at training time we will randomly crop each training image to 28x28, randomly flip half of the training images horizontally, and randomly adjust the contrast and tint of each training image.\n",
      "\n",
      "Open the file `cs231n/data_augmentation.py` and implement the `random_flips`, `random_crops`, `random_contrast`, and `random_tint` functions. In the same file we have implemented the `fixed_crops` function to get you started. When you are done you can run the cell below to visualize the effects of each type of data augmentation."
     ]
    },
    {
     "cell_type": "code",
     "collapsed": false,
     "input": [
      "from cs231n.data_augmentation import *\n",
      "\n",
      "X = get_CIFAR10_data(num_training=100, normalize=False)[0]\n",
      "num_imgs = 8\n",
      "print X.dtype\n",
      "X = X[np.random.randint(100, size=num_imgs)]\n",
      "\n",
      "X_flip = random_flips(X)\n",
      "X_rand_crop = random_crops(X, (28, 28))\n",
      "\n",
      "# To give more dramatic visualizations we use large scales for random contrast\n",
      "# and tint adjustment.\n",
      "X_contrast = random_contrast(X, scale=(0.5, 1.0))\n",
      "X_tint = random_tint(X, scale=(-50, 50))\n",
      "\n",
      "next_plt = 1\n",
      "for i in xrange(num_imgs):\n",
      "    titles = ['original', 'flip', 'rand crop', 'contrast', 'tint']\n",
      "    for j, XX in enumerate([X, X_flip, X_rand_crop, X_contrast, X_tint]):\n",
      "        plt.subplot(num_imgs, 5, next_plt)\n",
      "        img = XX[i].transpose(1, 2, 0)\n",
      "        if j == 4:\n",
      "            # For visualization purposes we rescale the pixel values of the\n",
      "            # tinted images\n",
      "            low, high = np.min(img), np.max(img)\n",
      "            img = 255 * (img - low) / (high - low)\n",
      "        plt.imshow(img.astype('uint8'))\n",
      "        if i == 0:\n",
      "            plt.title(titles[j])\n",
      "        plt.gca().axis('off')\n",
      "        next_plt += 1\n",
      "plt.show()"
     ],
     "language": "python",
     "metadata": {},
     "outputs": []
    },
    {
     "cell_type": "markdown",
     "metadata": {},
     "source": [
      "# Train again\n",
      "We will now train a new network with the same training data and the same architecture, but using data augmentation and dropout.\n",
      "\n",
      "If everything works, you should see a higher validation accuracy than above and a smaller gap between the training accuracy and the validation accuracy.\n",
      "\n",
      "Networks with dropout usually take a bit longer to train, so we will use more training epochs this time."
     ]
    },
    {
     "cell_type": "code",
     "collapsed": false,
     "input": [
      "input_shape = (3, 28, 28)\n",
      "\n",
      "def augment_fn(X):\n",
      "    out = random_flips(random_crops(X, input_shape[1:]))\n",
      "    out = random_tint(random_contrast(out))\n",
      "    return out\n",
      "\n",
      "def predict_fn(X):\n",
      "    return fixed_crops(X, input_shape[1:], 'center')\n",
      "    \n",
      "model = init_three_layer_convnet(filter_size=5, input_shape=input_shape, num_filters=(32, 128))\n",
      "trainer = ClassifierTrainer()\n",
      "\n",
      "best_model, loss_history, train_acc_history, val_acc_history = trainer.train(\n",
      "          X_train, y_train, X_val, y_val, model, three_layer_convnet,\n",
      "          reg=0.05, learning_rate=0.00005, learning_rate_decay=1.0,\n",
      "          batch_size=50, num_epochs=30, update='rmsprop', verbose=True, dropout=0.6,\n",
      "          augment_fn=augment_fn, predict_fn=predict_fn)"
     ],
     "language": "python",
     "metadata": {},
     "outputs": []
    },
    {
     "cell_type": "code",
     "collapsed": false,
     "input": [
      "# Visualize the loss and accuracy for our network trained with dropout and data augmentation.\n",
      "# You should see less overfitting, and you may also see slightly better performance on the\n",
      "# validation set.\n",
      "\n",
      "plt.subplot(2, 1, 1)\n",
      "plt.plot(train_acc_history)\n",
      "plt.plot(val_acc_history)\n",
      "plt.title('accuracy vs time')\n",
      "plt.legend(['train', 'val'], loc=4)\n",
      "plt.xlabel('epoch')\n",
      "plt.ylabel('classification accuracy')\n",
      "\n",
      "plt.subplot(2, 1, 2)\n",
      "plt.plot(loss_history)\n",
      "plt.title('loss vs time')\n",
      "plt.xlabel('iteration')\n",
      "plt.ylabel('loss')\n",
      "plt.show()"
     ],
     "language": "python",
     "metadata": {},
     "outputs": []
    }
   ],
   "metadata": {}
  }
 ]
}