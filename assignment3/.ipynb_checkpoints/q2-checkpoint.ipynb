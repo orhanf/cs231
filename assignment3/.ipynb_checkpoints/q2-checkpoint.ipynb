{
 "metadata": {
  "name": "",
  "signature": "sha256:55ea322a484a1adc0abf37516908384c89770c310daffb5d868a8b060b0b9cba"
 },
 "nbformat": 3,
 "nbformat_minor": 0,
 "worksheets": [
  {
   "cells": [
    {
     "cell_type": "markdown",
     "metadata": {},
     "source": [
      "# TinyImageNet and Ensembles\n",
      "So far, we have only worked with the CIFAR-10 dataset. In this exercise we will introduce the TinyImageNet dataset. You will combine several pretrained models into an ensemble, and show that the ensemble performs better than any individual model."
     ]
    },
    {
     "cell_type": "code",
     "collapsed": false,
     "input": [
      "# A bit of setup\n",
      "\n",
      "import numpy as np\n",
      "import matplotlib.pyplot as plt\n",
      "from time import time\n",
      "\n",
      "%matplotlib inline\n",
      "plt.rcParams['figure.figsize'] = (10.0, 8.0) # set default size of plots\n",
      "plt.rcParams['image.interpolation'] = 'nearest'\n",
      "plt.rcParams['image.cmap'] = 'gray'\n",
      "\n",
      "# for auto-reloading extenrnal modules\n",
      "# see http://stackoverflow.com/questions/1907993/autoreload-of-modules-in-ipython\n",
      "%load_ext autoreload\n",
      "%autoreload 2"
     ],
     "language": "python",
     "metadata": {},
     "outputs": [],
     "prompt_number": 1
    },
    {
     "cell_type": "markdown",
     "metadata": {},
     "source": [
      "# Introducing TinyImageNet\n",
      "\n",
      "The TinyImageNet dataset is a subset of the ILSVRC-2012 classification dataset. It consists of 200 object classes, and for each object class it provides 500 training images, 50 validation images, and 50 test images. All images have been downsampled to 64x64 pixels. We have provided the labels for all training and validation images, but have withheld the labels for the test images.\n",
      "\n",
      "We have further split the full TinyImageNet dataset into two equal pieces, each with 100 object classes. We refer to these datasets as TinyImageNet-100-A and TinyImageNet-100-B.\n",
      "\n",
      "To download the data, go into the `cs231n/datasets` directory and run the script `get_tiny_imagenet_splits.sh`. Then run the following code to load the TinyImageNet-100-A dataset into memory.\n",
      "\n",
      "NOTE: The full TinyImageNet dataset will take up about 490MB of disk space, and loading the full TinyImageNet-100-A dataset into memory will use about 2.8GB of memory."
     ]
    },
    {
     "cell_type": "code",
     "collapsed": false,
     "input": [
      "from cs231n.data_utils import load_tiny_imagenet\n",
      "\n",
      "tiny_imagenet_a = 'cs231n/datasets/tiny-imagenet-100-A'\n",
      "        \n",
      "class_names, X_train, y_train, X_val, y_val, X_test, y_test = load_tiny_imagenet(tiny_imagenet_a)\n",
      "\n",
      "# Zero-mean the data\n",
      "mean_img = np.mean(X_train, axis=0)\n",
      "X_train -= mean_img\n",
      "X_val -= mean_img\n",
      "X_test -= mean_img"
     ],
     "language": "python",
     "metadata": {},
     "outputs": [
      {
       "output_type": "stream",
       "stream": "stdout",
       "text": [
        "loading training data for synset 20 / 100\n",
        "loading training data for synset 40 / 100"
       ]
      },
      {
       "output_type": "stream",
       "stream": "stdout",
       "text": [
        "\n",
        "loading training data for synset 60 / 100"
       ]
      },
      {
       "output_type": "stream",
       "stream": "stdout",
       "text": [
        "\n",
        "loading training data for synset 80 / 100"
       ]
      },
      {
       "output_type": "stream",
       "stream": "stdout",
       "text": [
        "\n",
        "loading training data for synset 100 / 100"
       ]
      },
      {
       "output_type": "stream",
       "stream": "stdout",
       "text": [
        "\n"
       ]
      }
     ],
     "prompt_number": 2
    },
    {
     "cell_type": "markdown",
     "metadata": {},
     "source": [
      "# TinyImageNet-100-A classes\n",
      "Since ImageNet is based on the WordNet ontology, each class in ImageNet (and TinyImageNet) actually has several different names. For example \"pop bottle\" and \"soda bottle\" are both valid names for the same class. Run the following to see a list of all classes in TinyImageNet-100-A:"
     ]
    },
    {
     "cell_type": "code",
     "collapsed": false,
     "input": [
      "for names in class_names:\n",
      "    print ' '.join('\"%s\"' % name for name in names)"
     ],
     "language": "python",
     "metadata": {},
     "outputs": [
      {
       "output_type": "stream",
       "stream": "stdout",
       "text": [
        "\"Egyptian cat\"\n",
        "\"reel\"\n",
        "\"volleyball\"\n",
        "\"rocking chair\" \"rocker\"\n",
        "\"lemon\"\n",
        "\"bullfrog\" \"Rana catesbeiana\"\n",
        "\"basketball\"\n",
        "\"cliff\" \"drop\" \"drop-off\"\n",
        "\"espresso\"\n",
        "\"plunger\" \"plumber's helper\"\n",
        "\"parking meter\"\n",
        "\"German shepherd\" \"German shepherd dog\" \"German police dog\" \"alsatian\"\n",
        "\"dining table\" \"board\"\n",
        "\"monarch\" \"monarch butterfly\" \"milkweed butterfly\" \"Danaus plexippus\"\n",
        "\"brown bear\" \"bruin\" \"Ursus arctos\"\n",
        "\"school bus\"\n",
        "\"pizza\" \"pizza pie\"\n",
        "\"guinea pig\" \"Cavia cobaya\"\n",
        "\"umbrella\"\n",
        "\"organ\" \"pipe organ\"\n",
        "\"oboe\" \"hautboy\" \"hautbois\"\n",
        "\"maypole\"\n",
        "\"goldfish\" \"Carassius auratus\"\n",
        "\"potpie\"\n",
        "\"hourglass\"\n",
        "\"seashore\" \"coast\" \"seacoast\" \"sea-coast\"\n",
        "\"computer keyboard\" \"keypad\"\n",
        "\"Arabian camel\" \"dromedary\" \"Camelus dromedarius\"\n",
        "\"ice cream\" \"icecream\"\n",
        "\"nail\"\n",
        "\"space heater\"\n",
        "\"cardigan\"\n",
        "\"baboon\"\n",
        "\"snail\"\n",
        "\"coral reef\"\n",
        "\"albatross\" \"mollymawk\"\n",
        "\"spider web\" \"spider's web\"\n",
        "\"sea cucumber\" \"holothurian\"\n",
        "\"backpack\" \"back pack\" \"knapsack\" \"packsack\" \"rucksack\" \"haversack\"\n",
        "\"Labrador retriever\"\n",
        "\"pretzel\"\n",
        "\"king penguin\" \"Aptenodytes patagonica\"\n",
        "\"sulphur butterfly\" \"sulfur butterfly\"\n",
        "\"tarantula\"\n",
        "\"lesser panda\" \"red panda\" \"panda\" \"bear cat\" \"cat bear\" \"Ailurus fulgens\"\n",
        "\"pop bottle\" \"soda bottle\"\n",
        "\"banana\"\n",
        "\"sock\"\n",
        "\"cockroach\" \"roach\"\n",
        "\"projectile\" \"missile\"\n",
        "\"beer bottle\"\n",
        "\"mantis\" \"mantid\"\n",
        "\"freight car\"\n",
        "\"guacamole\"\n",
        "\"remote control\" \"remote\"\n",
        "\"European fire salamander\" \"Salamandra salamandra\"\n",
        "\"lakeside\" \"lakeshore\"\n",
        "\"chimpanzee\" \"chimp\" \"Pan troglodytes\"\n",
        "\"pay-phone\" \"pay-station\"\n",
        "\"fur coat\"\n",
        "\"alp\"\n",
        "\"lampshade\" \"lamp shade\"\n",
        "\"torch\"\n",
        "\"abacus\"\n",
        "\"moving van\"\n",
        "\"barrel\" \"cask\"\n",
        "\"tabby\" \"tabby cat\"\n",
        "\"goose\"\n",
        "\"koala\" \"koala bear\" \"kangaroo bear\" \"native bear\" \"Phascolarctos cinereus\"\n",
        "\"bullet train\" \"bullet\"\n",
        "\"CD player\"\n",
        "\"teapot\"\n",
        "\"birdhouse\"\n",
        "\"gazelle\"\n",
        "\"academic gown\" \"academic robe\" \"judge's robe\"\n",
        "\"tractor\"\n",
        "\"ladybug\" \"ladybeetle\" \"lady beetle\" \"ladybird\" \"ladybird beetle\"\n",
        "\"miniskirt\" \"mini\"\n",
        "\"golden retriever\"\n",
        "\"triumphal arch\"\n",
        "\"cannon\"\n",
        "\"neck brace\"\n",
        "\"sombrero\"\n",
        "\"gasmask\" \"respirator\" \"gas helmet\"\n",
        "\"candle\" \"taper\" \"wax light\"\n",
        "\"desk\"\n",
        "\"frying pan\" \"frypan\" \"skillet\"\n",
        "\"bee\"\n",
        "\"dam\" \"dike\" \"dyke\"\n",
        "\"spiny lobster\" \"langouste\" \"rock lobster\" \"crawfish\" \"crayfish\" \"sea crawfish\"\n",
        "\"police van\" \"police wagon\" \"paddy wagon\" \"patrol wagon\" \"wagon\" \"black Maria\"\n",
        "\"iPod\"\n",
        "\"punching bag\" \"punch bag\" \"punching ball\" \"punchball\"\n",
        "\"beacon\" \"lighthouse\" \"beacon light\" \"pharos\"\n",
        "\"jellyfish\"\n",
        "\"wok\"\n",
        "\"potter's wheel\"\n",
        "\"sandal\"\n",
        "\"pill bottle\"\n",
        "\"butcher shop\" \"meat market\"\n"
       ]
      }
     ],
     "prompt_number": 3
    },
    {
     "cell_type": "markdown",
     "metadata": {},
     "source": [
      "# Visualize Examples\n",
      "Run the following to visualize some example images from random classses in TinyImageNet-100-A. It selects classes and images randomly, so you can run it several times to see different images."
     ]
    },
    {
     "cell_type": "code",
     "collapsed": false,
     "input": [
      "# Visualize some examples of the training data\n",
      "classes_to_show = 7\n",
      "examples_per_class = 5\n",
      "\n",
      "class_idxs = np.random.choice(len(class_names), size=classes_to_show, replace=False)\n",
      "for i, class_idx in enumerate(class_idxs):\n",
      "    train_idxs, = np.nonzero(y_train == class_idx)\n",
      "    train_idxs = np.random.choice(train_idxs, size=examples_per_class, replace=False)\n",
      "    for j, train_idx in enumerate(train_idxs):\n",
      "        img = X_train[train_idx] + mean_img\n",
      "        img = img.transpose(1, 2, 0).astype('uint8')\n",
      "        plt.subplot(examples_per_class, classes_to_show, 1 + i + classes_to_show * j)\n",
      "        if j == 0:\n",
      "            plt.title(class_names[class_idx][0])\n",
      "        plt.imshow(img)\n",
      "        plt.gca().axis('off')\n",
      "\n",
      "plt.show()"
     ],
     "language": "python",
     "metadata": {},
     "outputs": [
      {
       "metadata": {},
       "output_type": "display_data",
       "png": "[encoded data removed]",
       "text": [
        "<matplotlib.figure.Figure at 0x7f96b4580c50>"
       ]
      }
     ],
     "prompt_number": 4
    },
    {
     "cell_type": "markdown",
     "metadata": {},
     "source": [
      "# Test human performance\n",
      "Run the following to test your own classification performance on the TinyImageNet-100-A dataset.\n",
      "\n",
      "You can run several times in 'training' mode to get familiar with the task; once you are ready to test yourself, switch the mode to `'val'`.\n",
      "\n",
      "You won't be penalized if you don't correctly classify all the images, but you should still try your best."
     ]
    },
    {
     "cell_type": "code",
     "collapsed": false,
     "input": [
      "mode = 'train'\n",
      "\n",
      "name_to_label = {n.lower(): i for i, ns in enumerate(class_names) for n in ns}\n",
      "\n",
      "if mode == 'train':\n",
      "    X, y = X_train, y_train\n",
      "elif mode == 'val':\n",
      "    X, y = X_val, y_val\n",
      "    \n",
      "num_correct = 0\n",
      "num_images = 10\n",
      "for i in xrange(num_images):\n",
      "    idx = np.random.randint(X.shape[0])\n",
      "    img = (X[idx] + mean_img).transpose(1, 2, 0).astype('uint8')\n",
      "    plt.imshow(img)\n",
      "    plt.gca().axis('off')\n",
      "    plt.gcf().set_size_inches((2, 2))\n",
      "    plt.show()\n",
      "    got_name = False\n",
      "    while not got_name:\n",
      "        name = raw_input('Guess the class for the above image (%d / %d) : ' % (i + 1, num_images))\n",
      "        name = name.lower()\n",
      "        got_name = name in name_to_label\n",
      "        if not got_name:\n",
      "            print 'That is not a valid class name; try again'\n",
      "    guess = name_to_label[name]\n",
      "    if guess == y[idx]:\n",
      "        num_correct += 1\n",
      "        print 'Correct!'\n",
      "    else:\n",
      "        print 'Incorrect; it was actually %r' % class_names[y[idx]]\n",
      "\n",
      "acc = float(num_correct) / num_images\n",
      "print 'You got %d / %d correct for an accuracy of %f' % (num_correct, num_images, acc)"
     ],
     "language": "python",
     "metadata": {},
     "outputs": [
      {
       "metadata": {},
       "output_type": "display_data",
       "png": "[encoded data removed]",
       "text": [
        "<matplotlib.figure.Figure at 0x7f96b4407990>"
       ]
      },
      {
       "name": "stdout",
       "output_type": "stream",
       "stream": "stdout",
       "text": [
        "Guess the class for the above image (1 / 10) : \n"
       ]
      },
      {
       "output_type": "stream",
       "stream": "stdout",
       "text": [
        "That is not a valid class name; try again\n"
       ]
      },
      {
       "name": "stdout",
       "output_type": "stream",
       "stream": "stdout",
       "text": [
        "Guess the class for the above image (1 / 10) : train\n"
       ]
      },
      {
       "output_type": "stream",
       "stream": "stdout",
       "text": [
        "That is not a valid class name; try again\n"
       ]
      },
      {
       "name": "stdout",
       "output_type": "stream",
       "stream": "stdout",
       "text": [
        "Guess the class for the above image (1 / 10) : high speed train\n"
       ]
      },
      {
       "output_type": "stream",
       "stream": "stdout",
       "text": [
        "That is not a valid class name; try again\n"
       ]
      },
      {
       "name": "stdout",
       "output_type": "stream",
       "stream": "stdout",
       "text": [
        "Guess the class for the above image (1 / 10) : maglev\n"
       ]
      },
      {
       "output_type": "stream",
       "stream": "stdout",
       "text": [
        "That is not a valid class name; try again\n"
       ]
      },
      {
       "ename": "KeyboardInterrupt",
       "evalue": "",
       "output_type": "pyerr",
       "traceback": [
        "\u001b[0;31m---------------------------------------------------------------------------\u001b[0m\n\u001b[0;31mKeyboardInterrupt\u001b[0m                         Traceback (most recent call last)",
        "\u001b[0;32m<ipython-input-5-8909569c1a66>\u001b[0m in \u001b[0;36m<module>\u001b[0;34m()\u001b[0m\n\u001b[1;32m     19\u001b[0m     \u001b[0mgot_name\u001b[0m \u001b[0;34m=\u001b[0m \u001b[0mFalse\u001b[0m\u001b[0;34m\u001b[0m\u001b[0m\n\u001b[1;32m     20\u001b[0m     \u001b[0;32mwhile\u001b[0m \u001b[0;32mnot\u001b[0m \u001b[0mgot_name\u001b[0m\u001b[0;34m:\u001b[0m\u001b[0;34m\u001b[0m\u001b[0m\n\u001b[0;32m---> 21\u001b[0;31m         \u001b[0mname\u001b[0m \u001b[0;34m=\u001b[0m \u001b[0mraw_input\u001b[0m\u001b[0;34m(\u001b[0m\u001b[0;34m'Guess the class for the above image (%d / %d) : '\u001b[0m \u001b[0;34m%\u001b[0m \u001b[0;34m(\u001b[0m\u001b[0mi\u001b[0m \u001b[0;34m+\u001b[0m \u001b[0;36m1\u001b[0m\u001b[0;34m,\u001b[0m \u001b[0mnum_images\u001b[0m\u001b[0;34m)\u001b[0m\u001b[0;34m)\u001b[0m\u001b[0;34m\u001b[0m\u001b[0m\n\u001b[0m\u001b[1;32m     22\u001b[0m         \u001b[0mname\u001b[0m \u001b[0;34m=\u001b[0m \u001b[0mname\u001b[0m\u001b[0;34m.\u001b[0m\u001b[0mlower\u001b[0m\u001b[0;34m(\u001b[0m\u001b[0;34m)\u001b[0m\u001b[0;34m\u001b[0m\u001b[0m\n\u001b[1;32m     23\u001b[0m         \u001b[0mgot_name\u001b[0m \u001b[0;34m=\u001b[0m \u001b[0mname\u001b[0m \u001b[0;32min\u001b[0m \u001b[0mname_to_label\u001b[0m\u001b[0;34m\u001b[0m\u001b[0m\n",
        "\u001b[0;32m/usr/lib/python2.7/dist-packages/IPython/kernel/zmq/ipkernel.pyc\u001b[0m in \u001b[0;36m<lambda>\u001b[0;34m(prompt)\u001b[0m\n\u001b[1;32m    359\u001b[0m         \u001b[0;31m# raw_input in the user namespace.\u001b[0m\u001b[0;34m\u001b[0m\u001b[0;34m\u001b[0m\u001b[0m\n\u001b[1;32m    360\u001b[0m         \u001b[0;32mif\u001b[0m \u001b[0mcontent\u001b[0m\u001b[0;34m.\u001b[0m\u001b[0mget\u001b[0m\u001b[0;34m(\u001b[0m\u001b[0;34m'allow_stdin'\u001b[0m\u001b[0;34m,\u001b[0m \u001b[0mFalse\u001b[0m\u001b[0;34m)\u001b[0m\u001b[0;34m:\u001b[0m\u001b[0;34m\u001b[0m\u001b[0m\n\u001b[0;32m--> 361\u001b[0;31m             \u001b[0mraw_input\u001b[0m \u001b[0;34m=\u001b[0m \u001b[0;32mlambda\u001b[0m \u001b[0mprompt\u001b[0m\u001b[0;34m=\u001b[0m\u001b[0;34m''\u001b[0m\u001b[0;34m:\u001b[0m \u001b[0mself\u001b[0m\u001b[0;34m.\u001b[0m\u001b[0m_raw_input\u001b[0m\u001b[0;34m(\u001b[0m\u001b[0mprompt\u001b[0m\u001b[0;34m,\u001b[0m \u001b[0mident\u001b[0m\u001b[0;34m,\u001b[0m \u001b[0mparent\u001b[0m\u001b[0;34m)\u001b[0m\u001b[0;34m\u001b[0m\u001b[0m\n\u001b[0m\u001b[1;32m    362\u001b[0m             \u001b[0minput\u001b[0m \u001b[0;34m=\u001b[0m \u001b[0;32mlambda\u001b[0m \u001b[0mprompt\u001b[0m\u001b[0;34m=\u001b[0m\u001b[0;34m''\u001b[0m\u001b[0;34m:\u001b[0m \u001b[0meval\u001b[0m\u001b[0;34m(\u001b[0m\u001b[0mraw_input\u001b[0m\u001b[0;34m(\u001b[0m\u001b[0mprompt\u001b[0m\u001b[0;34m)\u001b[0m\u001b[0;34m)\u001b[0m\u001b[0;34m\u001b[0m\u001b[0m\n\u001b[1;32m    363\u001b[0m         \u001b[0;32melse\u001b[0m\u001b[0;34m:\u001b[0m\u001b[0;34m\u001b[0m\u001b[0m\n",
        "\u001b[0;32m/usr/lib/python2.7/dist-packages/IPython/kernel/zmq/ipkernel.pyc\u001b[0m in \u001b[0;36m_raw_input\u001b[0;34m(self, prompt, ident, parent)\u001b[0m\n\u001b[1;32m    780\u001b[0m             \u001b[0;32mexcept\u001b[0m \u001b[0mKeyboardInterrupt\u001b[0m\u001b[0;34m:\u001b[0m\u001b[0;34m\u001b[0m\u001b[0m\n\u001b[1;32m    781\u001b[0m                 \u001b[0;31m# re-raise KeyboardInterrupt, to truncate traceback\u001b[0m\u001b[0;34m\u001b[0m\u001b[0;34m\u001b[0m\u001b[0m\n\u001b[0;32m--> 782\u001b[0;31m                 \u001b[0;32mraise\u001b[0m \u001b[0mKeyboardInterrupt\u001b[0m\u001b[0;34m\u001b[0m\u001b[0m\n\u001b[0m\u001b[1;32m    783\u001b[0m             \u001b[0;32melse\u001b[0m\u001b[0;34m:\u001b[0m\u001b[0;34m\u001b[0m\u001b[0m\n\u001b[1;32m    784\u001b[0m                 \u001b[0;32mbreak\u001b[0m\u001b[0;34m\u001b[0m\u001b[0m\n",
        "\u001b[0;31mKeyboardInterrupt\u001b[0m: "
       ]
      }
     ],
     "prompt_number": 5
    },
    {
     "cell_type": "markdown",
     "metadata": {},
     "source": [
      "# Download pretrained models\n",
      "We have provided 10 pretrained ConvNets for the TinyImageNet-100-A dataset. Each of these models is a five-layer ConvNet with the architecture\n",
      "\n",
      "[conv - relu - pool] x 3 - affine - relu - affine - softmax\n",
      "\n",
      "All convolutional layers are 3x3 with stride 1 and all pooling layers are 2x2 with stride 2. The first two convolutional layers have 32 filters each, and the third convolutional layer has 64 filters. The hidden affine layer has 512 neurons. You can run the forward and backward pass for these five layer convnets using the function `five_layer_convnet` in the file `cs231n/classifiers/convnet.py`.\n",
      "\n",
      "Each of these models was trained for 25 epochs over the TinyImageNet-100-A training data with a batch size of 50 and with dropout on the hidden affine layer. Each model was trained using slightly different values for the learning rate, regularization, and dropout probability.\n",
      "\n",
      "To download the pretrained models, go into the `cs231n/datasets` directory and run the `get_pretrained_models.sh` script. Once you have done so, run the following to load the pretrained models into memory.\n",
      "\n",
      "NOTE: The pretrained models will take about 245MB of disk space."
     ]
    },
    {
     "cell_type": "code",
     "collapsed": false,
     "input": [
      "from cs231n.data_utils import load_models\n",
      "\n",
      "models_dir = 'cs231n/datasets/tiny-100-A-pretrained'\n",
      "\n",
      "# models is a dictionary mappping model names to models.\n",
      "# Like the previous assignment, each model is a dictionary mapping parameter\n",
      "# names to parameter values.\n",
      "models = load_models(models_dir)"
     ],
     "language": "python",
     "metadata": {},
     "outputs": [],
     "prompt_number": 3
    },
    {
     "cell_type": "code",
     "collapsed": false,
     "input": [
      "from cs231n.classifiers.convnet import five_layer_convnet\n",
      "print models.keys()\n",
      "\n",
      "model1 = models['model1']\n",
      "n_chunks=50\n",
      "chunks = np.array_split(X_val, n_chunks)\n",
      "print X_val.shape\n",
      "print [ch.shape for ch in chunks ]"
     ],
     "language": "python",
     "metadata": {},
     "outputs": [
      {
       "output_type": "stream",
       "stream": "stdout",
       "text": [
        "['model9', 'model8', 'model3', 'model2', 'model1', 'model7', 'model6', 'model5', 'model4', 'model10']\n",
        "(5000, 3, 64, 64)\n",
        "[(100, 3, 64, 64), (100, 3, 64, 64), (100, 3, 64, 64), (100, 3, 64, 64), (100, 3, 64, 64), (100, 3, 64, 64), (100, 3, 64, 64), (100, 3, 64, 64), (100, 3, 64, 64), (100, 3, 64, 64), (100, 3, 64, 64), (100, 3, 64, 64), (100, 3, 64, 64), (100, 3, 64, 64), (100, 3, 64, 64), (100, 3, 64, 64), (100, 3, 64, 64), (100, 3, 64, 64), (100, 3, 64, 64), (100, 3, 64, 64), (100, 3, 64, 64), (100, 3, 64, 64), (100, 3, 64, 64), (100, 3, 64, 64), (100, 3, 64, 64), (100, 3, 64, 64), (100, 3, 64, 64), (100, 3, 64, 64), (100, 3, 64, 64), (100, 3, 64, 64), (100, 3, 64, 64), (100, 3, 64, 64), (100, 3, 64, 64), (100, 3, 64, 64), (100, 3, 64, 64), (100, 3, 64, 64), (100, 3, 64, 64), (100, 3, 64, 64), (100, 3, 64, 64), (100, 3, 64, 64), (100, 3, 64, 64), (100, 3, 64, 64), (100, 3, 64, 64), (100, 3, 64, 64), (100, 3, 64, 64), (100, 3, 64, 64), (100, 3, 64, 64), (100, 3, 64, 64), (100, 3, 64, 64), (100, 3, 64, 64)]\n"
       ]
      }
     ],
     "prompt_number": 13
    },
    {
     "cell_type": "markdown",
     "metadata": {},
     "source": [
      "# Run models on the validation set\n",
      "To benchmark the performance of each model on its own, we will use each model to make predictions on the validation set."
     ]
    },
    {
     "cell_type": "code",
     "collapsed": false,
     "input": [
      "from cs231n.classifiers.convnet import five_layer_convnet\n",
      "\n",
      "# Dictionary mapping model names to their predicted class probabilities on the\n",
      "# validation set. model_to_probs[model_name] is an array of shape (N_val, 100)\n",
      "# where model_to_probs[model_name][i, j] = p indicates that models[model_name]\n",
      "# predicts that X_val[i] has class i with probability p.\n",
      "model_to_probs = {}\n",
      "\n",
      "################################################################################\n",
      "# TODO: Use each model to predict classification probabilities for all images  #\n",
      "# in the validation set. Store the predicted probabilities in the              #\n",
      "# model_to_probs dictionary as above. To compute forward passes and compute    #\n",
      "# probabilities, use the function five_layer_convnet in the file               #\n",
      "# cs231n/classifiers/convnet.py.                                               #\n",
      "#                                                                              #\n",
      "# HINT: Trying to predict on the entire validation set all at once will use a  #\n",
      "# ton of memory, so you should break the validation set into batches and run   #\n",
      "# each batch through each model separately.                                    #\n",
      "################################################################################\n",
      "sidx = [c.shape[0] for c in chunks]\n",
      "for k, v in models.iteritems():\n",
      "    model_to_probs[k] = np.zeros(shape=(X_val.shape[0], 100))\n",
      "    sid = 0\n",
      "    for i, data in enumerate(chunks):\n",
      "        print k, i\n",
      "        eid = sid + sidx[i] - 1\n",
      "        model_to_probs[k][sid:eid ,:] = five_layer_convnet(X_val[sid:eid,:,:,:], v)\n",
      "        sid = eid + 1\n",
      "        \n",
      "################################################################################\n",
      "#                            END OF YOUR CODE                                  #\n",
      "################################################################################    \n",
      "\n",
      "# Compute and print the accuracy for each model.\n",
      "for model_name, probs in model_to_probs.iteritems():\n",
      "    acc = np.mean(np.argmax(probs, axis=1) == y_val)\n",
      "    print '%s got accuracy %f' % (model_name, acc)"
     ],
     "language": "python",
     "metadata": {},
     "outputs": [
      {
       "output_type": "stream",
       "stream": "stdout",
       "text": [
        "model9 0\n",
        "model9"
       ]
      },
      {
       "output_type": "stream",
       "stream": "stdout",
       "text": [
        " 1\n",
        "model9"
       ]
      },
      {
       "output_type": "stream",
       "stream": "stdout",
       "text": [
        " 2\n",
        "model9"
       ]
      },
      {
       "output_type": "stream",
       "stream": "stdout",
       "text": [
        " 3\n",
        "model9"
       ]
      },
      {
       "output_type": "stream",
       "stream": "stdout",
       "text": [
        " 4\n",
        "model9"
       ]
      },
      {
       "output_type": "stream",
       "stream": "stdout",
       "text": [
        " 5\n",
        "model9"
       ]
      },
      {
       "output_type": "stream",
       "stream": "stdout",
       "text": [
        " 6\n",
        "model9"
       ]
      },
      {
       "output_type": "stream",
       "stream": "stdout",
       "text": [
        " 7\n",
        "model9"
       ]
      },
      {
       "output_type": "stream",
       "stream": "stdout",
       "text": [
        " 8\n",
        "model9"
       ]
      },
      {
       "output_type": "stream",
       "stream": "stdout",
       "text": [
        " 9\n",
        "model9"
       ]
      },
      {
       "output_type": "stream",
       "stream": "stdout",
       "text": [
        " 10\n",
        "model9"
       ]
      },
      {
       "output_type": "stream",
       "stream": "stdout",
       "text": [
        " 11\n",
        "model9"
       ]
      },
      {
       "output_type": "stream",
       "stream": "stdout",
       "text": [
        " 12\n",
        "model9"
       ]
      },
      {
       "output_type": "stream",
       "stream": "stdout",
       "text": [
        " 13\n",
        "model9"
       ]
      },
      {
       "output_type": "stream",
       "stream": "stdout",
       "text": [
        " 14\n",
        "model9"
       ]
      },
      {
       "output_type": "stream",
       "stream": "stdout",
       "text": [
        " 15\n",
        "model9"
       ]
      },
      {
       "output_type": "stream",
       "stream": "stdout",
       "text": [
        " 16\n",
        "model9"
       ]
      },
      {
       "output_type": "stream",
       "stream": "stdout",
       "text": [
        " 17\n",
        "model9"
       ]
      },
      {
       "output_type": "stream",
       "stream": "stdout",
       "text": [
        " 18\n",
        "model9"
       ]
      },
      {
       "output_type": "stream",
       "stream": "stdout",
       "text": [
        " 19\n",
        "model9"
       ]
      },
      {
       "output_type": "stream",
       "stream": "stdout",
       "text": [
        " 20\n",
        "model9"
       ]
      },
      {
       "output_type": "stream",
       "stream": "stdout",
       "text": [
        " 21\n",
        "model9"
       ]
      },
      {
       "output_type": "stream",
       "stream": "stdout",
       "text": [
        " 22\n",
        "model9"
       ]
      },
      {
       "output_type": "stream",
       "stream": "stdout",
       "text": [
        " 23\n",
        "model9"
       ]
      },
      {
       "output_type": "stream",
       "stream": "stdout",
       "text": [
        " 24\n",
        "model9"
       ]
      },
      {
       "output_type": "stream",
       "stream": "stdout",
       "text": [
        " 25\n",
        "model9"
       ]
      },
      {
       "output_type": "stream",
       "stream": "stdout",
       "text": [
        " 26\n",
        "model9"
       ]
      },
      {
       "output_type": "stream",
       "stream": "stdout",
       "text": [
        " 27\n",
        "model9"
       ]
      },
      {
       "output_type": "stream",
       "stream": "stdout",
       "text": [
        " 28\n",
        "model9"
       ]
      },
      {
       "output_type": "stream",
       "stream": "stdout",
       "text": [
        " 29\n",
        "model9"
       ]
      },
      {
       "output_type": "stream",
       "stream": "stdout",
       "text": [
        " 30\n",
        "model9"
       ]
      },
      {
       "output_type": "stream",
       "stream": "stdout",
       "text": [
        " 31\n",
        "model9"
       ]
      },
      {
       "output_type": "stream",
       "stream": "stdout",
       "text": [
        " 32\n",
        "model9"
       ]
      },
      {
       "output_type": "stream",
       "stream": "stdout",
       "text": [
        " 33\n",
        "model9"
       ]
      },
      {
       "output_type": "stream",
       "stream": "stdout",
       "text": [
        " 34\n",
        "model9"
       ]
      },
      {
       "output_type": "stream",
       "stream": "stdout",
       "text": [
        " 35\n",
        "model9"
       ]
      },
      {
       "output_type": "stream",
       "stream": "stdout",
       "text": [
        " 36\n",
        "model9"
       ]
      },
      {
       "output_type": "stream",
       "stream": "stdout",
       "text": [
        " 37\n",
        "model9"
       ]
      },
      {
       "output_type": "stream",
       "stream": "stdout",
       "text": [
        " 38\n",
        "model9"
       ]
      },
      {
       "output_type": "stream",
       "stream": "stdout",
       "text": [
        " 39\n",
        "model9"
       ]
      },
      {
       "output_type": "stream",
       "stream": "stdout",
       "text": [
        " 40\n",
        "model9"
       ]
      },
      {
       "output_type": "stream",
       "stream": "stdout",
       "text": [
        " 41\n",
        "model9"
       ]
      },
      {
       "output_type": "stream",
       "stream": "stdout",
       "text": [
        " 42\n",
        "model9"
       ]
      },
      {
       "output_type": "stream",
       "stream": "stdout",
       "text": [
        " 43\n",
        "model9"
       ]
      },
      {
       "output_type": "stream",
       "stream": "stdout",
       "text": [
        " 44\n",
        "model9"
       ]
      },
      {
       "output_type": "stream",
       "stream": "stdout",
       "text": [
        " 45\n",
        "model9"
       ]
      },
      {
       "output_type": "stream",
       "stream": "stdout",
       "text": [
        " 46\n",
        "model9"
       ]
      },
      {
       "output_type": "stream",
       "stream": "stdout",
       "text": [
        " 47\n",
        "model9"
       ]
      },
      {
       "output_type": "stream",
       "stream": "stdout",
       "text": [
        " 48\n",
        "model9"
       ]
      },
      {
       "output_type": "stream",
       "stream": "stdout",
       "text": [
        " 49\n",
        "model8"
       ]
      },
      {
       "output_type": "stream",
       "stream": "stdout",
       "text": [
        " 0\n",
        "model8"
       ]
      },
      {
       "output_type": "stream",
       "stream": "stdout",
       "text": [
        " 1\n",
        "model8"
       ]
      },
      {
       "output_type": "stream",
       "stream": "stdout",
       "text": [
        " 2\n",
        "model8"
       ]
      },
      {
       "output_type": "stream",
       "stream": "stdout",
       "text": [
        " 3\n",
        "model8"
       ]
      },
      {
       "output_type": "stream",
       "stream": "stdout",
       "text": [
        " 4\n",
        "model8"
       ]
      },
      {
       "output_type": "stream",
       "stream": "stdout",
       "text": [
        " 5\n",
        "model8"
       ]
      },
      {
       "output_type": "stream",
       "stream": "stdout",
       "text": [
        " 6\n",
        "model8"
       ]
      },
      {
       "output_type": "stream",
       "stream": "stdout",
       "text": [
        " 7\n",
        "model8"
       ]
      },
      {
       "output_type": "stream",
       "stream": "stdout",
       "text": [
        " 8\n",
        "model8"
       ]
      },
      {
       "output_type": "stream",
       "stream": "stdout",
       "text": [
        " 9\n",
        "model8"
       ]
      },
      {
       "output_type": "stream",
       "stream": "stdout",
       "text": [
        " 10\n",
        "model8"
       ]
      },
      {
       "output_type": "stream",
       "stream": "stdout",
       "text": [
        " 11\n",
        "model8"
       ]
      },
      {
       "output_type": "stream",
       "stream": "stdout",
       "text": [
        " 12\n",
        "model8"
       ]
      },
      {
       "output_type": "stream",
       "stream": "stdout",
       "text": [
        " 13\n",
        "model8"
       ]
      },
      {
       "output_type": "stream",
       "stream": "stdout",
       "text": [
        " 14\n",
        "model8"
       ]
      },
      {
       "output_type": "stream",
       "stream": "stdout",
       "text": [
        " 15\n",
        "model8"
       ]
      },
      {
       "output_type": "stream",
       "stream": "stdout",
       "text": [
        " 16\n",
        "model8"
       ]
      },
      {
       "output_type": "stream",
       "stream": "stdout",
       "text": [
        " 17\n",
        "model8"
       ]
      },
      {
       "output_type": "stream",
       "stream": "stdout",
       "text": [
        " 18\n",
        "model8"
       ]
      },
      {
       "output_type": "stream",
       "stream": "stdout",
       "text": [
        " 19\n",
        "model8"
       ]
      },
      {
       "output_type": "stream",
       "stream": "stdout",
       "text": [
        " 20\n",
        "model8"
       ]
      },
      {
       "output_type": "stream",
       "stream": "stdout",
       "text": [
        " 21\n",
        "model8"
       ]
      },
      {
       "output_type": "stream",
       "stream": "stdout",
       "text": [
        " 22\n",
        "model8"
       ]
      },
      {
       "output_type": "stream",
       "stream": "stdout",
       "text": [
        " 23\n",
        "model8"
       ]
      },
      {
       "output_type": "stream",
       "stream": "stdout",
       "text": [
        " 24\n",
        "model8"
       ]
      },
      {
       "output_type": "stream",
       "stream": "stdout",
       "text": [
        " 25\n",
        "model8"
       ]
      },
      {
       "output_type": "stream",
       "stream": "stdout",
       "text": [
        " 26\n",
        "model8"
       ]
      },
      {
       "output_type": "stream",
       "stream": "stdout",
       "text": [
        " 27\n",
        "model8"
       ]
      },
      {
       "output_type": "stream",
       "stream": "stdout",
       "text": [
        " 28\n",
        "model8"
       ]
      },
      {
       "output_type": "stream",
       "stream": "stdout",
       "text": [
        " 29\n",
        "model8"
       ]
      },
      {
       "output_type": "stream",
       "stream": "stdout",
       "text": [
        " 30\n",
        "model8"
       ]
      },
      {
       "output_type": "stream",
       "stream": "stdout",
       "text": [
        " 31\n",
        "model8"
       ]
      },
      {
       "output_type": "stream",
       "stream": "stdout",
       "text": [
        " 32\n",
        "model8"
       ]
      },
      {
       "output_type": "stream",
       "stream": "stdout",
       "text": [
        " 33\n",
        "model8"
       ]
      },
      {
       "output_type": "stream",
       "stream": "stdout",
       "text": [
        " 34\n",
        "model8"
       ]
      },
      {
       "output_type": "stream",
       "stream": "stdout",
       "text": [
        " 35\n",
        "model8"
       ]
      },
      {
       "output_type": "stream",
       "stream": "stdout",
       "text": [
        " 36\n",
        "model8"
       ]
      },
      {
       "output_type": "stream",
       "stream": "stdout",
       "text": [
        " 37\n",
        "model8"
       ]
      },
      {
       "output_type": "stream",
       "stream": "stdout",
       "text": [
        " 38\n",
        "model8"
       ]
      },
      {
       "output_type": "stream",
       "stream": "stdout",
       "text": [
        " 39\n",
        "model8"
       ]
      },
      {
       "output_type": "stream",
       "stream": "stdout",
       "text": [
        " 40\n",
        "model8"
       ]
      },
      {
       "output_type": "stream",
       "stream": "stdout",
       "text": [
        " 41\n",
        "model8"
       ]
      },
      {
       "output_type": "stream",
       "stream": "stdout",
       "text": [
        " 42\n",
        "model8"
       ]
      },
      {
       "output_type": "stream",
       "stream": "stdout",
       "text": [
        " 43\n",
        "model8"
       ]
      },
      {
       "output_type": "stream",
       "stream": "stdout",
       "text": [
        " 44\n",
        "model8"
       ]
      },
      {
       "output_type": "stream",
       "stream": "stdout",
       "text": [
        " 45\n",
        "model8"
       ]
      },
      {
       "output_type": "stream",
       "stream": "stdout",
       "text": [
        " 46\n",
        "model8"
       ]
      },
      {
       "output_type": "stream",
       "stream": "stdout",
       "text": [
        " 47\n",
        "model8"
       ]
      },
      {
       "output_type": "stream",
       "stream": "stdout",
       "text": [
        " 48\n",
        "model8"
       ]
      },
      {
       "output_type": "stream",
       "stream": "stdout",
       "text": [
        " 49\n",
        "model3"
       ]
      },
      {
       "output_type": "stream",
       "stream": "stdout",
       "text": [
        " 0\n",
        "model3"
       ]
      },
      {
       "output_type": "stream",
       "stream": "stdout",
       "text": [
        " 1\n",
        "model3"
       ]
      },
      {
       "output_type": "stream",
       "stream": "stdout",
       "text": [
        " 2\n",
        "model3"
       ]
      },
      {
       "output_type": "stream",
       "stream": "stdout",
       "text": [
        " 3\n",
        "model3"
       ]
      },
      {
       "output_type": "stream",
       "stream": "stdout",
       "text": [
        " 4\n",
        "model3"
       ]
      },
      {
       "output_type": "stream",
       "stream": "stdout",
       "text": [
        " 5\n",
        "model3"
       ]
      },
      {
       "output_type": "stream",
       "stream": "stdout",
       "text": [
        " 6\n",
        "model3"
       ]
      },
      {
       "output_type": "stream",
       "stream": "stdout",
       "text": [
        " 7\n",
        "model3"
       ]
      },
      {
       "output_type": "stream",
       "stream": "stdout",
       "text": [
        " 8\n",
        "model3"
       ]
      },
      {
       "output_type": "stream",
       "stream": "stdout",
       "text": [
        " 9\n",
        "model3"
       ]
      },
      {
       "output_type": "stream",
       "stream": "stdout",
       "text": [
        " 10\n",
        "model3"
       ]
      },
      {
       "output_type": "stream",
       "stream": "stdout",
       "text": [
        " 11\n",
        "model3"
       ]
      },
      {
       "output_type": "stream",
       "stream": "stdout",
       "text": [
        " 12\n",
        "model3"
       ]
      },
      {
       "output_type": "stream",
       "stream": "stdout",
       "text": [
        " 13\n",
        "model3"
       ]
      },
      {
       "output_type": "stream",
       "stream": "stdout",
       "text": [
        " 14\n",
        "model3"
       ]
      },
      {
       "output_type": "stream",
       "stream": "stdout",
       "text": [
        " 15\n",
        "model3"
       ]
      },
      {
       "output_type": "stream",
       "stream": "stdout",
       "text": [
        " 16\n",
        "model3"
       ]
      },
      {
       "output_type": "stream",
       "stream": "stdout",
       "text": [
        " 17\n",
        "model3"
       ]
      },
      {
       "output_type": "stream",
       "stream": "stdout",
       "text": [
        " 18\n",
        "model3"
       ]
      },
      {
       "output_type": "stream",
       "stream": "stdout",
       "text": [
        " 19\n",
        "model3"
       ]
      },
      {
       "output_type": "stream",
       "stream": "stdout",
       "text": [
        " 20\n",
        "model3"
       ]
      },
      {
       "output_type": "stream",
       "stream": "stdout",
       "text": [
        " 21\n",
        "model3"
       ]
      },
      {
       "output_type": "stream",
       "stream": "stdout",
       "text": [
        " 22\n",
        "model3"
       ]
      },
      {
       "output_type": "stream",
       "stream": "stdout",
       "text": [
        " 23\n",
        "model3"
       ]
      },
      {
       "output_type": "stream",
       "stream": "stdout",
       "text": [
        " 24\n",
        "model3"
       ]
      },
      {
       "output_type": "stream",
       "stream": "stdout",
       "text": [
        " 25\n",
        "model3"
       ]
      },
      {
       "output_type": "stream",
       "stream": "stdout",
       "text": [
        " 26\n",
        "model3"
       ]
      },
      {
       "output_type": "stream",
       "stream": "stdout",
       "text": [
        " 27\n",
        "model3"
       ]
      },
      {
       "output_type": "stream",
       "stream": "stdout",
       "text": [
        " 28\n",
        "model3"
       ]
      },
      {
       "output_type": "stream",
       "stream": "stdout",
       "text": [
        " 29\n",
        "model3"
       ]
      },
      {
       "output_type": "stream",
       "stream": "stdout",
       "text": [
        " 30\n",
        "model3"
       ]
      },
      {
       "output_type": "stream",
       "stream": "stdout",
       "text": [
        " 31\n",
        "model3"
       ]
      },
      {
       "output_type": "stream",
       "stream": "stdout",
       "text": [
        " 32\n",
        "model3"
       ]
      },
      {
       "output_type": "stream",
       "stream": "stdout",
       "text": [
        " 33\n",
        "model3"
       ]
      },
      {
       "output_type": "stream",
       "stream": "stdout",
       "text": [
        " 34\n",
        "model3"
       ]
      },
      {
       "output_type": "stream",
       "stream": "stdout",
       "text": [
        " 35\n",
        "model3"
       ]
      },
      {
       "output_type": "stream",
       "stream": "stdout",
       "text": [
        " 36\n",
        "model3"
       ]
      },
      {
       "output_type": "stream",
       "stream": "stdout",
       "text": [
        " 37\n",
        "model3"
       ]
      },
      {
       "output_type": "stream",
       "stream": "stdout",
       "text": [
        " 38\n",
        "model3"
       ]
      },
      {
       "output_type": "stream",
       "stream": "stdout",
       "text": [
        " 39\n",
        "model3"
       ]
      },
      {
       "output_type": "stream",
       "stream": "stdout",
       "text": [
        " 40\n",
        "model3"
       ]
      },
      {
       "output_type": "stream",
       "stream": "stdout",
       "text": [
        " 41\n",
        "model3"
       ]
      },
      {
       "output_type": "stream",
       "stream": "stdout",
       "text": [
        " 42\n",
        "model3"
       ]
      },
      {
       "output_type": "stream",
       "stream": "stdout",
       "text": [
        " 43\n",
        "model3"
       ]
      },
      {
       "output_type": "stream",
       "stream": "stdout",
       "text": [
        " 44\n",
        "model3"
       ]
      },
      {
       "output_type": "stream",
       "stream": "stdout",
       "text": [
        " 45\n",
        "model3"
       ]
      },
      {
       "output_type": "stream",
       "stream": "stdout",
       "text": [
        " 46\n",
        "model3"
       ]
      },
      {
       "output_type": "stream",
       "stream": "stdout",
       "text": [
        " 47\n",
        "model3"
       ]
      },
      {
       "output_type": "stream",
       "stream": "stdout",
       "text": [
        " 48\n",
        "model3"
       ]
      },
      {
       "output_type": "stream",
       "stream": "stdout",
       "text": [
        " 49\n",
        "model2"
       ]
      },
      {
       "output_type": "stream",
       "stream": "stdout",
       "text": [
        " 0\n",
        "model2"
       ]
      },
      {
       "output_type": "stream",
       "stream": "stdout",
       "text": [
        " 1\n",
        "model2"
       ]
      },
      {
       "output_type": "stream",
       "stream": "stdout",
       "text": [
        " 2\n",
        "model2"
       ]
      },
      {
       "output_type": "stream",
       "stream": "stdout",
       "text": [
        " 3\n",
        "model2"
       ]
      },
      {
       "output_type": "stream",
       "stream": "stdout",
       "text": [
        " 4\n",
        "model2"
       ]
      },
      {
       "output_type": "stream",
       "stream": "stdout",
       "text": [
        " 5\n",
        "model2"
       ]
      },
      {
       "output_type": "stream",
       "stream": "stdout",
       "text": [
        " 6\n",
        "model2"
       ]
      },
      {
       "output_type": "stream",
       "stream": "stdout",
       "text": [
        " 7\n",
        "model2"
       ]
      },
      {
       "output_type": "stream",
       "stream": "stdout",
       "text": [
        " 8\n",
        "model2"
       ]
      },
      {
       "output_type": "stream",
       "stream": "stdout",
       "text": [
        " 9\n",
        "model2"
       ]
      },
      {
       "output_type": "stream",
       "stream": "stdout",
       "text": [
        " 10\n",
        "model2"
       ]
      },
      {
       "output_type": "stream",
       "stream": "stdout",
       "text": [
        " 11\n",
        "model2"
       ]
      },
      {
       "output_type": "stream",
       "stream": "stdout",
       "text": [
        " 12\n",
        "model2"
       ]
      },
      {
       "output_type": "stream",
       "stream": "stdout",
       "text": [
        " 13\n",
        "model2"
       ]
      },
      {
       "output_type": "stream",
       "stream": "stdout",
       "text": [
        " 14\n",
        "model2"
       ]
      },
      {
       "output_type": "stream",
       "stream": "stdout",
       "text": [
        " 15\n",
        "model2"
       ]
      },
      {
       "output_type": "stream",
       "stream": "stdout",
       "text": [
        " 16\n",
        "model2"
       ]
      },
      {
       "output_type": "stream",
       "stream": "stdout",
       "text": [
        " 17\n",
        "model2"
       ]
      },
      {
       "output_type": "stream",
       "stream": "stdout",
       "text": [
        " 18\n",
        "model2"
       ]
      },
      {
       "output_type": "stream",
       "stream": "stdout",
       "text": [
        " 19\n",
        "model2"
       ]
      },
      {
       "output_type": "stream",
       "stream": "stdout",
       "text": [
        " 20\n",
        "model2"
       ]
      },
      {
       "output_type": "stream",
       "stream": "stdout",
       "text": [
        " 21\n",
        "model2"
       ]
      },
      {
       "output_type": "stream",
       "stream": "stdout",
       "text": [
        " 22\n",
        "model2"
       ]
      },
      {
       "output_type": "stream",
       "stream": "stdout",
       "text": [
        " 23\n",
        "model2"
       ]
      },
      {
       "output_type": "stream",
       "stream": "stdout",
       "text": [
        " 24\n",
        "model2"
       ]
      },
      {
       "output_type": "stream",
       "stream": "stdout",
       "text": [
        " 25\n",
        "model2"
       ]
      },
      {
       "output_type": "stream",
       "stream": "stdout",
       "text": [
        " 26\n",
        "model2"
       ]
      },
      {
       "output_type": "stream",
       "stream": "stdout",
       "text": [
        " 27\n",
        "model2"
       ]
      },
      {
       "output_type": "stream",
       "stream": "stdout",
       "text": [
        " 28\n",
        "model2"
       ]
      },
      {
       "output_type": "stream",
       "stream": "stdout",
       "text": [
        " 29\n",
        "model2"
       ]
      },
      {
       "output_type": "stream",
       "stream": "stdout",
       "text": [
        " 30\n",
        "model2"
       ]
      },
      {
       "output_type": "stream",
       "stream": "stdout",
       "text": [
        " 31\n",
        "model2"
       ]
      },
      {
       "output_type": "stream",
       "stream": "stdout",
       "text": [
        " 32\n",
        "model2"
       ]
      },
      {
       "output_type": "stream",
       "stream": "stdout",
       "text": [
        " 33\n",
        "model2"
       ]
      },
      {
       "output_type": "stream",
       "stream": "stdout",
       "text": [
        " 34\n",
        "model2"
       ]
      },
      {
       "output_type": "stream",
       "stream": "stdout",
       "text": [
        " 35\n",
        "model2"
       ]
      },
      {
       "output_type": "stream",
       "stream": "stdout",
       "text": [
        " 36\n",
        "model2"
       ]
      },
      {
       "output_type": "stream",
       "stream": "stdout",
       "text": [
        " 37\n",
        "model2"
       ]
      },
      {
       "output_type": "stream",
       "stream": "stdout",
       "text": [
        " 38\n",
        "model2"
       ]
      },
      {
       "output_type": "stream",
       "stream": "stdout",
       "text": [
        " 39\n",
        "model2"
       ]
      },
      {
       "output_type": "stream",
       "stream": "stdout",
       "text": [
        " 40\n",
        "model2"
       ]
      },
      {
       "output_type": "stream",
       "stream": "stdout",
       "text": [
        " 41\n",
        "model2"
       ]
      },
      {
       "output_type": "stream",
       "stream": "stdout",
       "text": [
        " 42\n",
        "model2"
       ]
      },
      {
       "output_type": "stream",
       "stream": "stdout",
       "text": [
        " 43\n",
        "model2"
       ]
      },
      {
       "output_type": "stream",
       "stream": "stdout",
       "text": [
        " 44\n",
        "model2"
       ]
      },
      {
       "output_type": "stream",
       "stream": "stdout",
       "text": [
        " 45\n",
        "model2"
       ]
      },
      {
       "output_type": "stream",
       "stream": "stdout",
       "text": [
        " 46\n",
        "model2"
       ]
      },
      {
       "output_type": "stream",
       "stream": "stdout",
       "text": [
        " 47\n",
        "model2"
       ]
      },
      {
       "output_type": "stream",
       "stream": "stdout",
       "text": [
        " 48\n",
        "model2"
       ]
      },
      {
       "output_type": "stream",
       "stream": "stdout",
       "text": [
        " 49\n",
        "model1"
       ]
      },
      {
       "output_type": "stream",
       "stream": "stdout",
       "text": [
        " 0\n",
        "model1"
       ]
      },
      {
       "output_type": "stream",
       "stream": "stdout",
       "text": [
        " 1\n",
        "model1"
       ]
      },
      {
       "output_type": "stream",
       "stream": "stdout",
       "text": [
        " 2\n",
        "model1"
       ]
      },
      {
       "output_type": "stream",
       "stream": "stdout",
       "text": [
        " 3\n",
        "model1"
       ]
      },
      {
       "output_type": "stream",
       "stream": "stdout",
       "text": [
        " 4\n",
        "model1"
       ]
      },
      {
       "output_type": "stream",
       "stream": "stdout",
       "text": [
        " 5\n",
        "model1"
       ]
      },
      {
       "output_type": "stream",
       "stream": "stdout",
       "text": [
        " 6\n",
        "model1"
       ]
      },
      {
       "output_type": "stream",
       "stream": "stdout",
       "text": [
        " 7\n",
        "model1"
       ]
      },
      {
       "output_type": "stream",
       "stream": "stdout",
       "text": [
        " 8\n",
        "model1"
       ]
      },
      {
       "output_type": "stream",
       "stream": "stdout",
       "text": [
        " 9\n",
        "model1"
       ]
      },
      {
       "output_type": "stream",
       "stream": "stdout",
       "text": [
        " 10\n",
        "model1"
       ]
      },
      {
       "output_type": "stream",
       "stream": "stdout",
       "text": [
        " 11\n",
        "model1"
       ]
      },
      {
       "output_type": "stream",
       "stream": "stdout",
       "text": [
        " 12\n",
        "model1"
       ]
      },
      {
       "output_type": "stream",
       "stream": "stdout",
       "text": [
        " 13\n",
        "model1"
       ]
      },
      {
       "output_type": "stream",
       "stream": "stdout",
       "text": [
        " 14\n",
        "model1"
       ]
      },
      {
       "output_type": "stream",
       "stream": "stdout",
       "text": [
        " 15\n",
        "model1"
       ]
      },
      {
       "output_type": "stream",
       "stream": "stdout",
       "text": [
        " 16\n",
        "model1"
       ]
      },
      {
       "output_type": "stream",
       "stream": "stdout",
       "text": [
        " 17\n",
        "model1"
       ]
      },
      {
       "output_type": "stream",
       "stream": "stdout",
       "text": [
        " 18\n",
        "model1"
       ]
      },
      {
       "output_type": "stream",
       "stream": "stdout",
       "text": [
        " 19\n",
        "model1"
       ]
      },
      {
       "output_type": "stream",
       "stream": "stdout",
       "text": [
        " 20\n",
        "model1"
       ]
      },
      {
       "output_type": "stream",
       "stream": "stdout",
       "text": [
        " 21\n",
        "model1"
       ]
      },
      {
       "output_type": "stream",
       "stream": "stdout",
       "text": [
        " 22\n",
        "model1"
       ]
      },
      {
       "output_type": "stream",
       "stream": "stdout",
       "text": [
        " 23\n",
        "model1"
       ]
      },
      {
       "output_type": "stream",
       "stream": "stdout",
       "text": [
        " 24\n",
        "model1"
       ]
      },
      {
       "output_type": "stream",
       "stream": "stdout",
       "text": [
        " 25\n",
        "model1"
       ]
      },
      {
       "output_type": "stream",
       "stream": "stdout",
       "text": [
        " 26\n",
        "model1"
       ]
      },
      {
       "output_type": "stream",
       "stream": "stdout",
       "text": [
        " 27\n",
        "model1"
       ]
      },
      {
       "output_type": "stream",
       "stream": "stdout",
       "text": [
        " 28\n",
        "model1"
       ]
      },
      {
       "output_type": "stream",
       "stream": "stdout",
       "text": [
        " 29\n",
        "model1"
       ]
      },
      {
       "output_type": "stream",
       "stream": "stdout",
       "text": [
        " 30\n",
        "model1"
       ]
      },
      {
       "output_type": "stream",
       "stream": "stdout",
       "text": [
        " 31\n",
        "model1"
       ]
      },
      {
       "output_type": "stream",
       "stream": "stdout",
       "text": [
        " 32\n",
        "model1"
       ]
      },
      {
       "output_type": "stream",
       "stream": "stdout",
       "text": [
        " 33\n",
        "model1"
       ]
      },
      {
       "output_type": "stream",
       "stream": "stdout",
       "text": [
        " 34\n",
        "model1"
       ]
      },
      {
       "output_type": "stream",
       "stream": "stdout",
       "text": [
        " 35\n",
        "model1"
       ]
      },
      {
       "output_type": "stream",
       "stream": "stdout",
       "text": [
        " 36\n",
        "model1"
       ]
      },
      {
       "output_type": "stream",
       "stream": "stdout",
       "text": [
        " 37\n",
        "model1"
       ]
      },
      {
       "output_type": "stream",
       "stream": "stdout",
       "text": [
        " 38\n",
        "model1"
       ]
      },
      {
       "output_type": "stream",
       "stream": "stdout",
       "text": [
        " 39\n",
        "model1"
       ]
      },
      {
       "output_type": "stream",
       "stream": "stdout",
       "text": [
        " 40\n",
        "model1"
       ]
      },
      {
       "output_type": "stream",
       "stream": "stdout",
       "text": [
        " 41\n",
        "model1"
       ]
      },
      {
       "output_type": "stream",
       "stream": "stdout",
       "text": [
        " 42\n",
        "model1"
       ]
      },
      {
       "output_type": "stream",
       "stream": "stdout",
       "text": [
        " 43\n",
        "model1"
       ]
      },
      {
       "output_type": "stream",
       "stream": "stdout",
       "text": [
        " 44\n",
        "model1"
       ]
      },
      {
       "output_type": "stream",
       "stream": "stdout",
       "text": [
        " 45\n",
        "model1"
       ]
      },
      {
       "output_type": "stream",
       "stream": "stdout",
       "text": [
        " 46\n",
        "model1"
       ]
      },
      {
       "output_type": "stream",
       "stream": "stdout",
       "text": [
        " 47\n",
        "model1"
       ]
      },
      {
       "output_type": "stream",
       "stream": "stdout",
       "text": [
        " 48\n",
        "model1"
       ]
      },
      {
       "output_type": "stream",
       "stream": "stdout",
       "text": [
        " 49\n",
        "model7"
       ]
      },
      {
       "output_type": "stream",
       "stream": "stdout",
       "text": [
        " 0\n",
        "model7"
       ]
      },
      {
       "output_type": "stream",
       "stream": "stdout",
       "text": [
        " 1\n",
        "model7"
       ]
      },
      {
       "output_type": "stream",
       "stream": "stdout",
       "text": [
        " 2\n",
        "model7"
       ]
      },
      {
       "output_type": "stream",
       "stream": "stdout",
       "text": [
        " 3\n",
        "model7"
       ]
      },
      {
       "output_type": "stream",
       "stream": "stdout",
       "text": [
        " 4\n",
        "model7"
       ]
      },
      {
       "output_type": "stream",
       "stream": "stdout",
       "text": [
        " 5\n",
        "model7"
       ]
      },
      {
       "output_type": "stream",
       "stream": "stdout",
       "text": [
        " 6\n",
        "model7"
       ]
      },
      {
       "output_type": "stream",
       "stream": "stdout",
       "text": [
        " 7\n",
        "model7"
       ]
      },
      {
       "output_type": "stream",
       "stream": "stdout",
       "text": [
        " 8\n",
        "model7"
       ]
      },
      {
       "output_type": "stream",
       "stream": "stdout",
       "text": [
        " 9\n",
        "model7"
       ]
      },
      {
       "output_type": "stream",
       "stream": "stdout",
       "text": [
        " 10\n",
        "model7"
       ]
      },
      {
       "output_type": "stream",
       "stream": "stdout",
       "text": [
        " 11\n",
        "model7"
       ]
      },
      {
       "output_type": "stream",
       "stream": "stdout",
       "text": [
        " 12\n",
        "model7"
       ]
      },
      {
       "output_type": "stream",
       "stream": "stdout",
       "text": [
        " 13\n",
        "model7"
       ]
      },
      {
       "output_type": "stream",
       "stream": "stdout",
       "text": [
        " 14\n",
        "model7"
       ]
      },
      {
       "output_type": "stream",
       "stream": "stdout",
       "text": [
        " 15\n",
        "model7"
       ]
      },
      {
       "output_type": "stream",
       "stream": "stdout",
       "text": [
        " 16\n",
        "model7"
       ]
      },
      {
       "output_type": "stream",
       "stream": "stdout",
       "text": [
        " 17\n",
        "model7"
       ]
      },
      {
       "output_type": "stream",
       "stream": "stdout",
       "text": [
        " 18\n",
        "model7"
       ]
      },
      {
       "output_type": "stream",
       "stream": "stdout",
       "text": [
        " 19\n",
        "model7"
       ]
      },
      {
       "output_type": "stream",
       "stream": "stdout",
       "text": [
        " 20\n",
        "model7"
       ]
      },
      {
       "output_type": "stream",
       "stream": "stdout",
       "text": [
        " 21\n",
        "model7"
       ]
      },
      {
       "output_type": "stream",
       "stream": "stdout",
       "text": [
        " 22\n",
        "model7"
       ]
      },
      {
       "output_type": "stream",
       "stream": "stdout",
       "text": [
        " 23\n",
        "model7"
       ]
      },
      {
       "output_type": "stream",
       "stream": "stdout",
       "text": [
        " 24\n",
        "model7"
       ]
      },
      {
       "output_type": "stream",
       "stream": "stdout",
       "text": [
        " 25\n",
        "model7"
       ]
      },
      {
       "output_type": "stream",
       "stream": "stdout",
       "text": [
        " 26\n",
        "model7"
       ]
      },
      {
       "output_type": "stream",
       "stream": "stdout",
       "text": [
        " 27\n",
        "model7"
       ]
      },
      {
       "output_type": "stream",
       "stream": "stdout",
       "text": [
        " 28\n",
        "model7"
       ]
      },
      {
       "output_type": "stream",
       "stream": "stdout",
       "text": [
        " 29\n",
        "model7"
       ]
      },
      {
       "output_type": "stream",
       "stream": "stdout",
       "text": [
        " 30\n",
        "model7"
       ]
      },
      {
       "output_type": "stream",
       "stream": "stdout",
       "text": [
        " 31\n",
        "model7"
       ]
      },
      {
       "output_type": "stream",
       "stream": "stdout",
       "text": [
        " 32\n",
        "model7"
       ]
      },
      {
       "output_type": "stream",
       "stream": "stdout",
       "text": [
        " 33\n",
        "model7"
       ]
      },
      {
       "output_type": "stream",
       "stream": "stdout",
       "text": [
        " 34\n",
        "model7"
       ]
      },
      {
       "output_type": "stream",
       "stream": "stdout",
       "text": [
        " 35\n",
        "model7"
       ]
      },
      {
       "output_type": "stream",
       "stream": "stdout",
       "text": [
        " 36\n",
        "model7"
       ]
      },
      {
       "output_type": "stream",
       "stream": "stdout",
       "text": [
        " 37\n",
        "model7"
       ]
      },
      {
       "output_type": "stream",
       "stream": "stdout",
       "text": [
        " 38\n",
        "model7"
       ]
      },
      {
       "output_type": "stream",
       "stream": "stdout",
       "text": [
        " 39\n",
        "model7"
       ]
      },
      {
       "output_type": "stream",
       "stream": "stdout",
       "text": [
        " 40\n",
        "model7"
       ]
      },
      {
       "output_type": "stream",
       "stream": "stdout",
       "text": [
        " 41\n",
        "model7"
       ]
      },
      {
       "output_type": "stream",
       "stream": "stdout",
       "text": [
        " 42\n",
        "model7"
       ]
      },
      {
       "output_type": "stream",
       "stream": "stdout",
       "text": [
        " 43\n",
        "model7"
       ]
      },
      {
       "output_type": "stream",
       "stream": "stdout",
       "text": [
        " 44\n",
        "model7"
       ]
      },
      {
       "output_type": "stream",
       "stream": "stdout",
       "text": [
        " 45\n",
        "model7"
       ]
      },
      {
       "output_type": "stream",
       "stream": "stdout",
       "text": [
        " 46\n",
        "model7"
       ]
      },
      {
       "output_type": "stream",
       "stream": "stdout",
       "text": [
        " 47\n",
        "model7"
       ]
      },
      {
       "output_type": "stream",
       "stream": "stdout",
       "text": [
        " 48\n",
        "model7"
       ]
      },
      {
       "output_type": "stream",
       "stream": "stdout",
       "text": [
        " 49\n",
        "model6"
       ]
      },
      {
       "output_type": "stream",
       "stream": "stdout",
       "text": [
        " 0\n",
        "model6"
       ]
      },
      {
       "output_type": "stream",
       "stream": "stdout",
       "text": [
        " 1\n",
        "model6"
       ]
      },
      {
       "output_type": "stream",
       "stream": "stdout",
       "text": [
        " 2\n",
        "model6"
       ]
      },
      {
       "output_type": "stream",
       "stream": "stdout",
       "text": [
        " 3\n",
        "model6"
       ]
      },
      {
       "output_type": "stream",
       "stream": "stdout",
       "text": [
        " 4\n",
        "model6"
       ]
      },
      {
       "output_type": "stream",
       "stream": "stdout",
       "text": [
        " 5\n",
        "model6"
       ]
      },
      {
       "output_type": "stream",
       "stream": "stdout",
       "text": [
        " 6\n",
        "model6"
       ]
      },
      {
       "output_type": "stream",
       "stream": "stdout",
       "text": [
        " 7\n",
        "model6"
       ]
      },
      {
       "output_type": "stream",
       "stream": "stdout",
       "text": [
        " 8\n",
        "model6"
       ]
      },
      {
       "output_type": "stream",
       "stream": "stdout",
       "text": [
        " 9\n",
        "model6"
       ]
      },
      {
       "output_type": "stream",
       "stream": "stdout",
       "text": [
        " 10\n",
        "model6"
       ]
      },
      {
       "output_type": "stream",
       "stream": "stdout",
       "text": [
        " 11\n",
        "model6"
       ]
      },
      {
       "output_type": "stream",
       "stream": "stdout",
       "text": [
        " 12\n",
        "model6"
       ]
      },
      {
       "output_type": "stream",
       "stream": "stdout",
       "text": [
        " 13\n",
        "model6"
       ]
      },
      {
       "output_type": "stream",
       "stream": "stdout",
       "text": [
        " 14\n",
        "model6"
       ]
      },
      {
       "output_type": "stream",
       "stream": "stdout",
       "text": [
        " 15\n",
        "model6"
       ]
      },
      {
       "output_type": "stream",
       "stream": "stdout",
       "text": [
        " 16\n",
        "model6"
       ]
      },
      {
       "output_type": "stream",
       "stream": "stdout",
       "text": [
        " 17\n",
        "model6"
       ]
      },
      {
       "output_type": "stream",
       "stream": "stdout",
       "text": [
        " 18\n",
        "model6"
       ]
      },
      {
       "output_type": "stream",
       "stream": "stdout",
       "text": [
        " 19\n",
        "model6"
       ]
      },
      {
       "output_type": "stream",
       "stream": "stdout",
       "text": [
        " 20\n",
        "model6"
       ]
      },
      {
       "output_type": "stream",
       "stream": "stdout",
       "text": [
        " 21\n",
        "model6"
       ]
      },
      {
       "output_type": "stream",
       "stream": "stdout",
       "text": [
        " 22\n",
        "model6"
       ]
      },
      {
       "output_type": "stream",
       "stream": "stdout",
       "text": [
        " 23\n",
        "model6"
       ]
      },
      {
       "output_type": "stream",
       "stream": "stdout",
       "text": [
        " 24\n",
        "model6"
       ]
      },
      {
       "output_type": "stream",
       "stream": "stdout",
       "text": [
        " 25\n",
        "model6"
       ]
      },
      {
       "output_type": "stream",
       "stream": "stdout",
       "text": [
        " 26\n",
        "model6"
       ]
      },
      {
       "output_type": "stream",
       "stream": "stdout",
       "text": [
        " 27\n",
        "model6"
       ]
      },
      {
       "output_type": "stream",
       "stream": "stdout",
       "text": [
        " 28\n",
        "model6"
       ]
      },
      {
       "output_type": "stream",
       "stream": "stdout",
       "text": [
        " 29\n",
        "model6"
       ]
      },
      {
       "output_type": "stream",
       "stream": "stdout",
       "text": [
        " 30\n",
        "model6"
       ]
      },
      {
       "output_type": "stream",
       "stream": "stdout",
       "text": [
        " 31\n",
        "model6"
       ]
      },
      {
       "output_type": "stream",
       "stream": "stdout",
       "text": [
        " 32\n",
        "model6"
       ]
      },
      {
       "output_type": "stream",
       "stream": "stdout",
       "text": [
        " 33\n",
        "model6"
       ]
      },
      {
       "output_type": "stream",
       "stream": "stdout",
       "text": [
        " 34\n",
        "model6"
       ]
      },
      {
       "output_type": "stream",
       "stream": "stdout",
       "text": [
        " 35\n",
        "model6"
       ]
      },
      {
       "output_type": "stream",
       "stream": "stdout",
       "text": [
        " 36\n",
        "model6"
       ]
      },
      {
       "output_type": "stream",
       "stream": "stdout",
       "text": [
        " 37\n",
        "model6"
       ]
      },
      {
       "output_type": "stream",
       "stream": "stdout",
       "text": [
        " 38\n",
        "model6"
       ]
      },
      {
       "output_type": "stream",
       "stream": "stdout",
       "text": [
        " 39\n",
        "model6"
       ]
      },
      {
       "output_type": "stream",
       "stream": "stdout",
       "text": [
        " 40\n",
        "model6"
       ]
      },
      {
       "output_type": "stream",
       "stream": "stdout",
       "text": [
        " 41\n",
        "model6"
       ]
      },
      {
       "output_type": "stream",
       "stream": "stdout",
       "text": [
        " 42\n",
        "model6"
       ]
      },
      {
       "output_type": "stream",
       "stream": "stdout",
       "text": [
        " 43\n",
        "model6"
       ]
      },
      {
       "output_type": "stream",
       "stream": "stdout",
       "text": [
        " 44\n",
        "model6"
       ]
      },
      {
       "output_type": "stream",
       "stream": "stdout",
       "text": [
        " 45\n",
        "model6"
       ]
      },
      {
       "output_type": "stream",
       "stream": "stdout",
       "text": [
        " 46\n",
        "model6"
       ]
      },
      {
       "output_type": "stream",
       "stream": "stdout",
       "text": [
        " 47\n",
        "model6"
       ]
      },
      {
       "output_type": "stream",
       "stream": "stdout",
       "text": [
        " 48\n",
        "model6"
       ]
      },
      {
       "output_type": "stream",
       "stream": "stdout",
       "text": [
        " 49\n",
        "model5"
       ]
      },
      {
       "output_type": "stream",
       "stream": "stdout",
       "text": [
        " 0\n",
        "model5"
       ]
      },
      {
       "output_type": "stream",
       "stream": "stdout",
       "text": [
        " 1\n",
        "model5"
       ]
      },
      {
       "output_type": "stream",
       "stream": "stdout",
       "text": [
        " 2\n",
        "model5"
       ]
      },
      {
       "output_type": "stream",
       "stream": "stdout",
       "text": [
        " 3\n",
        "model5"
       ]
      },
      {
       "output_type": "stream",
       "stream": "stdout",
       "text": [
        " 4\n",
        "model5"
       ]
      },
      {
       "output_type": "stream",
       "stream": "stdout",
       "text": [
        " 5\n",
        "model5"
       ]
      },
      {
       "output_type": "stream",
       "stream": "stdout",
       "text": [
        " 6\n",
        "model5"
       ]
      },
      {
       "output_type": "stream",
       "stream": "stdout",
       "text": [
        " 7\n",
        "model5"
       ]
      },
      {
       "output_type": "stream",
       "stream": "stdout",
       "text": [
        " 8\n",
        "model5"
       ]
      },
      {
       "output_type": "stream",
       "stream": "stdout",
       "text": [
        " 9\n",
        "model5"
       ]
      },
      {
       "output_type": "stream",
       "stream": "stdout",
       "text": [
        " 10\n",
        "model5"
       ]
      },
      {
       "output_type": "stream",
       "stream": "stdout",
       "text": [
        " 11\n",
        "model5"
       ]
      },
      {
       "output_type": "stream",
       "stream": "stdout",
       "text": [
        " 12\n",
        "model5"
       ]
      },
      {
       "output_type": "stream",
       "stream": "stdout",
       "text": [
        " 13\n",
        "model5"
       ]
      },
      {
       "output_type": "stream",
       "stream": "stdout",
       "text": [
        " 14\n",
        "model5"
       ]
      },
      {
       "output_type": "stream",
       "stream": "stdout",
       "text": [
        " 15\n",
        "model5"
       ]
      },
      {
       "output_type": "stream",
       "stream": "stdout",
       "text": [
        " 16\n",
        "model5"
       ]
      },
      {
       "output_type": "stream",
       "stream": "stdout",
       "text": [
        " 17\n",
        "model5"
       ]
      },
      {
       "output_type": "stream",
       "stream": "stdout",
       "text": [
        " 18\n",
        "model5"
       ]
      },
      {
       "output_type": "stream",
       "stream": "stdout",
       "text": [
        " 19\n",
        "model5"
       ]
      },
      {
       "output_type": "stream",
       "stream": "stdout",
       "text": [
        " 20\n",
        "model5"
       ]
      },
      {
       "output_type": "stream",
       "stream": "stdout",
       "text": [
        " 21\n",
        "model5"
       ]
      },
      {
       "output_type": "stream",
       "stream": "stdout",
       "text": [
        " 22\n",
        "model5"
       ]
      },
      {
       "output_type": "stream",
       "stream": "stdout",
       "text": [
        " 23\n",
        "model5"
       ]
      },
      {
       "output_type": "stream",
       "stream": "stdout",
       "text": [
        " 24\n",
        "model5"
       ]
      },
      {
       "output_type": "stream",
       "stream": "stdout",
       "text": [
        " 25\n",
        "model5"
       ]
      },
      {
       "output_type": "stream",
       "stream": "stdout",
       "text": [
        " 26\n",
        "model5"
       ]
      },
      {
       "output_type": "stream",
       "stream": "stdout",
       "text": [
        " 27\n",
        "model5"
       ]
      },
      {
       "output_type": "stream",
       "stream": "stdout",
       "text": [
        " 28\n",
        "model5"
       ]
      },
      {
       "output_type": "stream",
       "stream": "stdout",
       "text": [
        " 29\n",
        "model5"
       ]
      },
      {
       "output_type": "stream",
       "stream": "stdout",
       "text": [
        " 30\n",
        "model5"
       ]
      },
      {
       "output_type": "stream",
       "stream": "stdout",
       "text": [
        " 31\n",
        "model5"
       ]
      },
      {
       "output_type": "stream",
       "stream": "stdout",
       "text": [
        " 32\n",
        "model5"
       ]
      },
      {
       "output_type": "stream",
       "stream": "stdout",
       "text": [
        " 33\n",
        "model5"
       ]
      },
      {
       "output_type": "stream",
       "stream": "stdout",
       "text": [
        " 34\n",
        "model5"
       ]
      },
      {
       "output_type": "stream",
       "stream": "stdout",
       "text": [
        " 35\n",
        "model5"
       ]
      },
      {
       "output_type": "stream",
       "stream": "stdout",
       "text": [
        " 36\n",
        "model5"
       ]
      },
      {
       "output_type": "stream",
       "stream": "stdout",
       "text": [
        " 37\n",
        "model5"
       ]
      },
      {
       "output_type": "stream",
       "stream": "stdout",
       "text": [
        " 38\n",
        "model5"
       ]
      },
      {
       "output_type": "stream",
       "stream": "stdout",
       "text": [
        " 39\n",
        "model5"
       ]
      },
      {
       "output_type": "stream",
       "stream": "stdout",
       "text": [
        " 40\n",
        "model5"
       ]
      },
      {
       "output_type": "stream",
       "stream": "stdout",
       "text": [
        " 41\n",
        "model5"
       ]
      },
      {
       "output_type": "stream",
       "stream": "stdout",
       "text": [
        " 42\n",
        "model5"
       ]
      },
      {
       "output_type": "stream",
       "stream": "stdout",
       "text": [
        " 43\n",
        "model5"
       ]
      },
      {
       "output_type": "stream",
       "stream": "stdout",
       "text": [
        " 44\n",
        "model5"
       ]
      },
      {
       "output_type": "stream",
       "stream": "stdout",
       "text": [
        " 45\n",
        "model5"
       ]
      },
      {
       "output_type": "stream",
       "stream": "stdout",
       "text": [
        " 46\n",
        "model5"
       ]
      },
      {
       "output_type": "stream",
       "stream": "stdout",
       "text": [
        " 47\n",
        "model5"
       ]
      },
      {
       "output_type": "stream",
       "stream": "stdout",
       "text": [
        " 48\n",
        "model5"
       ]
      },
      {
       "output_type": "stream",
       "stream": "stdout",
       "text": [
        " 49\n",
        "model4"
       ]
      },
      {
       "output_type": "stream",
       "stream": "stdout",
       "text": [
        " 0\n",
        "model4"
       ]
      },
      {
       "output_type": "stream",
       "stream": "stdout",
       "text": [
        " 1\n",
        "model4"
       ]
      },
      {
       "output_type": "stream",
       "stream": "stdout",
       "text": [
        " 2\n",
        "model4"
       ]
      },
      {
       "output_type": "stream",
       "stream": "stdout",
       "text": [
        " 3\n",
        "model4"
       ]
      },
      {
       "output_type": "stream",
       "stream": "stdout",
       "text": [
        " 4\n",
        "model4"
       ]
      },
      {
       "output_type": "stream",
       "stream": "stdout",
       "text": [
        " 5\n",
        "model4"
       ]
      },
      {
       "output_type": "stream",
       "stream": "stdout",
       "text": [
        " 6\n",
        "model4"
       ]
      },
      {
       "output_type": "stream",
       "stream": "stdout",
       "text": [
        " 7\n",
        "model4"
       ]
      },
      {
       "output_type": "stream",
       "stream": "stdout",
       "text": [
        " 8\n",
        "model4"
       ]
      },
      {
       "output_type": "stream",
       "stream": "stdout",
       "text": [
        " 9\n",
        "model4"
       ]
      },
      {
       "output_type": "stream",
       "stream": "stdout",
       "text": [
        " 10\n",
        "model4"
       ]
      },
      {
       "output_type": "stream",
       "stream": "stdout",
       "text": [
        " 11\n",
        "model4"
       ]
      },
      {
       "output_type": "stream",
       "stream": "stdout",
       "text": [
        " 12\n",
        "model4"
       ]
      },
      {
       "output_type": "stream",
       "stream": "stdout",
       "text": [
        " 13\n",
        "model4"
       ]
      },
      {
       "output_type": "stream",
       "stream": "stdout",
       "text": [
        " 14\n",
        "model4"
       ]
      },
      {
       "output_type": "stream",
       "stream": "stdout",
       "text": [
        " 15\n",
        "model4"
       ]
      },
      {
       "output_type": "stream",
       "stream": "stdout",
       "text": [
        " 16\n",
        "model4"
       ]
      },
      {
       "output_type": "stream",
       "stream": "stdout",
       "text": [
        " 17\n",
        "model4"
       ]
      },
      {
       "output_type": "stream",
       "stream": "stdout",
       "text": [
        " 18\n",
        "model4"
       ]
      },
      {
       "output_type": "stream",
       "stream": "stdout",
       "text": [
        " 19\n",
        "model4"
       ]
      },
      {
       "output_type": "stream",
       "stream": "stdout",
       "text": [
        " 20\n",
        "model4"
       ]
      },
      {
       "output_type": "stream",
       "stream": "stdout",
       "text": [
        " 21\n",
        "model4"
       ]
      },
      {
       "output_type": "stream",
       "stream": "stdout",
       "text": [
        " 22\n",
        "model4"
       ]
      },
      {
       "output_type": "stream",
       "stream": "stdout",
       "text": [
        " 23\n",
        "model4"
       ]
      },
      {
       "output_type": "stream",
       "stream": "stdout",
       "text": [
        " 24\n",
        "model4"
       ]
      },
      {
       "output_type": "stream",
       "stream": "stdout",
       "text": [
        " 25\n",
        "model4"
       ]
      },
      {
       "output_type": "stream",
       "stream": "stdout",
       "text": [
        " 26\n",
        "model4"
       ]
      },
      {
       "output_type": "stream",
       "stream": "stdout",
       "text": [
        " 27\n",
        "model4"
       ]
      },
      {
       "output_type": "stream",
       "stream": "stdout",
       "text": [
        " 28\n",
        "model4"
       ]
      },
      {
       "output_type": "stream",
       "stream": "stdout",
       "text": [
        " 29\n",
        "model4"
       ]
      },
      {
       "output_type": "stream",
       "stream": "stdout",
       "text": [
        " 30\n",
        "model4"
       ]
      },
      {
       "output_type": "stream",
       "stream": "stdout",
       "text": [
        " 31\n",
        "model4"
       ]
      },
      {
       "output_type": "stream",
       "stream": "stdout",
       "text": [
        " 32\n",
        "model4"
       ]
      },
      {
       "output_type": "stream",
       "stream": "stdout",
       "text": [
        " 33\n",
        "model4"
       ]
      },
      {
       "output_type": "stream",
       "stream": "stdout",
       "text": [
        " 34\n",
        "model4"
       ]
      },
      {
       "output_type": "stream",
       "stream": "stdout",
       "text": [
        " 35\n",
        "model4"
       ]
      },
      {
       "output_type": "stream",
       "stream": "stdout",
       "text": [
        " 36\n",
        "model4"
       ]
      },
      {
       "output_type": "stream",
       "stream": "stdout",
       "text": [
        " 37\n",
        "model4"
       ]
      },
      {
       "output_type": "stream",
       "stream": "stdout",
       "text": [
        " 38\n",
        "model4"
       ]
      },
      {
       "output_type": "stream",
       "stream": "stdout",
       "text": [
        " 39\n",
        "model4"
       ]
      },
      {
       "output_type": "stream",
       "stream": "stdout",
       "text": [
        " 40\n",
        "model4"
       ]
      },
      {
       "output_type": "stream",
       "stream": "stdout",
       "text": [
        " 41\n",
        "model4"
       ]
      },
      {
       "output_type": "stream",
       "stream": "stdout",
       "text": [
        " 42\n",
        "model4"
       ]
      },
      {
       "output_type": "stream",
       "stream": "stdout",
       "text": [
        " 43\n",
        "model4"
       ]
      },
      {
       "output_type": "stream",
       "stream": "stdout",
       "text": [
        " 44\n",
        "model4"
       ]
      },
      {
       "output_type": "stream",
       "stream": "stdout",
       "text": [
        " 45\n",
        "model4"
       ]
      },
      {
       "output_type": "stream",
       "stream": "stdout",
       "text": [
        " 46\n",
        "model4"
       ]
      },
      {
       "output_type": "stream",
       "stream": "stdout",
       "text": [
        " 47\n",
        "model4"
       ]
      },
      {
       "output_type": "stream",
       "stream": "stdout",
       "text": [
        " 48\n",
        "model4"
       ]
      },
      {
       "output_type": "stream",
       "stream": "stdout",
       "text": [
        " 49\n",
        "model10"
       ]
      },
      {
       "output_type": "stream",
       "stream": "stdout",
       "text": [
        " 0\n",
        "model10"
       ]
      },
      {
       "output_type": "stream",
       "stream": "stdout",
       "text": [
        " 1\n",
        "model10"
       ]
      },
      {
       "output_type": "stream",
       "stream": "stdout",
       "text": [
        " 2\n",
        "model10"
       ]
      },
      {
       "output_type": "stream",
       "stream": "stdout",
       "text": [
        " 3\n",
        "model10"
       ]
      },
      {
       "output_type": "stream",
       "stream": "stdout",
       "text": [
        " 4\n",
        "model10"
       ]
      },
      {
       "output_type": "stream",
       "stream": "stdout",
       "text": [
        " 5\n",
        "model10"
       ]
      },
      {
       "output_type": "stream",
       "stream": "stdout",
       "text": [
        " 6\n",
        "model10"
       ]
      },
      {
       "output_type": "stream",
       "stream": "stdout",
       "text": [
        " 7\n",
        "model10"
       ]
      },
      {
       "output_type": "stream",
       "stream": "stdout",
       "text": [
        " 8\n",
        "model10"
       ]
      },
      {
       "output_type": "stream",
       "stream": "stdout",
       "text": [
        " 9\n",
        "model10"
       ]
      },
      {
       "output_type": "stream",
       "stream": "stdout",
       "text": [
        " 10\n",
        "model10"
       ]
      },
      {
       "output_type": "stream",
       "stream": "stdout",
       "text": [
        " 11\n",
        "model10"
       ]
      },
      {
       "output_type": "stream",
       "stream": "stdout",
       "text": [
        " 12\n",
        "model10"
       ]
      },
      {
       "output_type": "stream",
       "stream": "stdout",
       "text": [
        " 13\n",
        "model10"
       ]
      },
      {
       "output_type": "stream",
       "stream": "stdout",
       "text": [
        " 14\n",
        "model10"
       ]
      },
      {
       "output_type": "stream",
       "stream": "stdout",
       "text": [
        " 15\n",
        "model10"
       ]
      },
      {
       "output_type": "stream",
       "stream": "stdout",
       "text": [
        " 16\n",
        "model10"
       ]
      },
      {
       "output_type": "stream",
       "stream": "stdout",
       "text": [
        " 17\n",
        "model10"
       ]
      },
      {
       "output_type": "stream",
       "stream": "stdout",
       "text": [
        " 18\n",
        "model10"
       ]
      },
      {
       "output_type": "stream",
       "stream": "stdout",
       "text": [
        " 19\n",
        "model10"
       ]
      },
      {
       "output_type": "stream",
       "stream": "stdout",
       "text": [
        " 20\n",
        "model10"
       ]
      },
      {
       "output_type": "stream",
       "stream": "stdout",
       "text": [
        " 21\n",
        "model10"
       ]
      },
      {
       "output_type": "stream",
       "stream": "stdout",
       "text": [
        " 22\n",
        "model10"
       ]
      },
      {
       "output_type": "stream",
       "stream": "stdout",
       "text": [
        " 23\n",
        "model10"
       ]
      },
      {
       "output_type": "stream",
       "stream": "stdout",
       "text": [
        " 24\n",
        "model10"
       ]
      },
      {
       "output_type": "stream",
       "stream": "stdout",
       "text": [
        " 25\n",
        "model10"
       ]
      },
      {
       "output_type": "stream",
       "stream": "stdout",
       "text": [
        " 26\n",
        "model10"
       ]
      },
      {
       "output_type": "stream",
       "stream": "stdout",
       "text": [
        " 27\n",
        "model10"
       ]
      },
      {
       "output_type": "stream",
       "stream": "stdout",
       "text": [
        " 28\n",
        "model10"
       ]
      },
      {
       "output_type": "stream",
       "stream": "stdout",
       "text": [
        " 29\n",
        "model10"
       ]
      },
      {
       "output_type": "stream",
       "stream": "stdout",
       "text": [
        " 30\n",
        "model10"
       ]
      },
      {
       "output_type": "stream",
       "stream": "stdout",
       "text": [
        " 31\n",
        "model10"
       ]
      },
      {
       "output_type": "stream",
       "stream": "stdout",
       "text": [
        " 32\n",
        "model10"
       ]
      },
      {
       "output_type": "stream",
       "stream": "stdout",
       "text": [
        " 33\n",
        "model10"
       ]
      },
      {
       "output_type": "stream",
       "stream": "stdout",
       "text": [
        " 34\n",
        "model10"
       ]
      },
      {
       "output_type": "stream",
       "stream": "stdout",
       "text": [
        " 35\n",
        "model10"
       ]
      },
      {
       "output_type": "stream",
       "stream": "stdout",
       "text": [
        " 36\n",
        "model10"
       ]
      },
      {
       "output_type": "stream",
       "stream": "stdout",
       "text": [
        " 37\n",
        "model10"
       ]
      },
      {
       "output_type": "stream",
       "stream": "stdout",
       "text": [
        " 38\n",
        "model10"
       ]
      },
      {
       "output_type": "stream",
       "stream": "stdout",
       "text": [
        " 39\n",
        "model10"
       ]
      },
      {
       "output_type": "stream",
       "stream": "stdout",
       "text": [
        " 40\n",
        "model10"
       ]
      },
      {
       "output_type": "stream",
       "stream": "stdout",
       "text": [
        " 41\n",
        "model10"
       ]
      },
      {
       "output_type": "stream",
       "stream": "stdout",
       "text": [
        " 42\n",
        "model10"
       ]
      },
      {
       "output_type": "stream",
       "stream": "stdout",
       "text": [
        " 43\n",
        "model10"
       ]
      },
      {
       "output_type": "stream",
       "stream": "stdout",
       "text": [
        " 44\n",
        "model10"
       ]
      },
      {
       "output_type": "stream",
       "stream": "stdout",
       "text": [
        " 45\n",
        "model10"
       ]
      },
      {
       "output_type": "stream",
       "stream": "stdout",
       "text": [
        " 46\n",
        "model10"
       ]
      },
      {
       "output_type": "stream",
       "stream": "stdout",
       "text": [
        " 47\n",
        "model10"
       ]
      },
      {
       "output_type": "stream",
       "stream": "stdout",
       "text": [
        " 48\n",
        "model10"
       ]
      },
      {
       "output_type": "stream",
       "stream": "stdout",
       "text": [
        " 49\n",
        "model9 got accuracy 0.352800"
       ]
      },
      {
       "output_type": "stream",
       "stream": "stdout",
       "text": [
        "\n",
        "model8 got accuracy 0.355400\n",
        "model3 got accuracy 0.366400\n",
        "model2 got accuracy 0.369000\n",
        "model1 got accuracy 0.368800\n",
        "model7 got accuracy 0.356200\n",
        "model6 got accuracy 0.362000\n",
        "model5 got accuracy 0.365600\n",
        "model4 got accuracy 0.365400\n",
        "model10 got accuracy 0.355400\n"
       ]
      }
     ],
     "prompt_number": 25
    },
    {
     "cell_type": "code",
     "collapsed": false,
     "input": [
      "print 'stg'"
     ],
     "language": "python",
     "metadata": {},
     "outputs": [],
     "prompt_number": 36
    },
    {
     "cell_type": "markdown",
     "metadata": {},
     "source": [
      "# Use a model ensemble\n",
      "A simple way to implement an ensemble of models is to average the predicted probabilites for each model in the ensemble.\n",
      "\n",
      "More concretely, suppose we have models $k$ models $m_1,\\ldots,m_k$ and we want to combine them into an ensemble. If $p(x=y_i \\mid m_j)$ is the probability that the input $x$ is classified as $y_i$ under model $m_j$, then the enemble predicts\n",
      "\n",
      "$$p(x=y_i \\mid \\{m_1,\\ldots,m_k\\}) = \\frac1k\\sum_{j=1}^kp(x=y_i\\mid m_j)$$\n",
      "\n",
      "In the cell below, implement this simple ensemble method by filling in the `compute_ensemble_preds` function. The ensemble of all 10 models should perform much better than the best individual model."
     ]
    },
    {
     "cell_type": "code",
     "collapsed": false,
     "input": [
      "def compute_ensemble_preds(probs_list):\n",
      "    \"\"\"\n",
      "    Use the predicted class probabilities from different models to implement\n",
      "    the ensembling method described above.\n",
      "    \n",
      "    Inputs:\n",
      "    - probs_list: A list of numpy arrays, where each gives the predicted class\n",
      "      probabilities under some model. In other words,\n",
      "      probs_list[j][i, c] = p means that the jth model in the ensemble thinks\n",
      "      that the ith data point has class c with probability p.\n",
      "    \n",
      "    Returns:\n",
      "    An array y_pred_ensemble of ensembled predictions, such that\n",
      "    y_pred_ensemble[i] = c means that ensemble predicts that the ith data point\n",
      "    is predicted to have class c.\n",
      "    \"\"\"\n",
      "    ############################################################################\n",
      "    # TODO: Implement this function. Store the ensemble predictions in         #\n",
      "    # y_pred_ensemble.                                                         #\n",
      "    ############################################################################\n",
      "    probs = np.asarray(probs_list)\n",
      "    y_pred_ensemble = np.argmax(np.sum(probs, axis=0) / probs.shape[0], axis=1)\n",
      "    ############################################################################\n",
      "    #                             END OF YOUR CODE                             #\n",
      "    ############################################################################\n",
      "    return y_pred_ensemble\n",
      "    \n",
      "# Combine all models into an ensemble and make predictions on the validation set.\n",
      "# This should be significantly better than the best individual model.\n",
      "print np.mean(compute_ensemble_preds(model_to_probs.values()) == y_val)"
     ],
     "language": "python",
     "metadata": {},
     "outputs": [],
     "prompt_number": 48
    },
    {
     "cell_type": "code",
     "collapsed": false,
     "input": [],
     "language": "python",
     "metadata": {},
     "outputs": [],
     "prompt_number": 40
    },
    {
     "cell_type": "markdown",
     "metadata": {},
     "source": [
      "# Ensemble size vs Performance\n",
      "Using our 10 pretrained models, we can form many different ensembles of different sizes. More precisely, if we have $n$ models and we want to form an ensemble of $k$ models, then there are $\\binom{n}{k}$ possible ensembles that we can form, where\n",
      "\n",
      "$$\\binom{n}{k} = \\frac{n!}{(n-k)!k!}$$\n",
      "\n",
      "We can use these different possible ensembles to study the effect of ensemble size on ensemble performance.\n",
      "\n",
      "In the cell below, compute the validation set accuracy of all possible ensembles of our 10 pretrained models. Produce a scatter plot with \"ensemble size\" on the horizontal axis and \"validation set accuracy\" on the vertical axis. Your plot should have a total of\n",
      "\n",
      "$$\\sum_{k=1}^{10} \\binom{10}{k}$$\n",
      "\n",
      "points corresponding to all possible ensembles of the 10 pretrained models.\n",
      "\n",
      "You should be able to compute the validation set predictions of these ensembles without computing any more forward passes through any of the networks."
     ]
    },
    {
     "cell_type": "code",
     "collapsed": false,
     "input": [
      "import itertools\n",
      "print '========================================================================'\n",
      "################################################################################\n",
      "# TODO: Create a plot comparing ensemble size with ensemble performance as     #\n",
      "# described above.                                                             #\n",
      "#                                                                              #\n",
      "# HINT: Look up the function itertools.combinations.                           #\n",
      "################################################################################\n",
      "combs = []\n",
      "lst = np.arange(len(model_to_probs))\n",
      "for i in xrange(1, len(model_to_probs)+1):\n",
      "    els = [list(x) for x in itertools.combinations(lst, i)]\n",
      "    combs.append(els)\n",
      "\n",
      "results = {}\n",
      "for i in xrange(len(model_to_probs)):\n",
      "    results[i+1] = []\n",
      "    \n",
      "pred_list = model_to_probs.values()\n",
      "for comb in combs:\n",
      "    for c in comb:\n",
      "        preds = [pred_list[i] for i in c]\n",
      "        acc = np.mean(compute_ensemble_preds(preds) == y_val)\n",
      "        results[len(c)].append(acc)\n",
      "################################################################################\n",
      "#                            END OF YOUR CODE                                  #\n",
      "################################################################################"
     ],
     "language": "python",
     "metadata": {},
     "outputs": [],
     "prompt_number": 76
    },
    {
     "cell_type": "code",
     "collapsed": false,
     "input": [
      "import matplotlib.pyplot as plt\n",
      "\n",
      "# plot the raw observations\n",
      "for k in xrange(len(model_to_probs)):\n",
      "  accuracies = results[k+1]\n",
      "  plt.scatter([k+1] * len(accuracies), accuracies)\n",
      "\n",
      "# plot the trend line with error bars that correspond to standard deviation\n",
      "accuracies_mean = np.array([np.mean(v) for k,v in sorted(results.items())])\n",
      "accuracies_std = np.array([np.std(v) for k,v in sorted(results.items())])\n",
      "plt.errorbar(np.arange(len(model_to_probs))+1, accuracies_mean, yerr=accuracies_std)\n",
      "plt.title('Ensemble size vs Validation accuracy')\n",
      "plt.xlabel('Number of models in ensemble')\n",
      "plt.ylabel('Cross-validation accuracy')\n",
      "plt.show()"
     ],
     "language": "python",
     "metadata": {},
     "outputs": [
      {
       "metadata": {},
       "output_type": "display_data",
       "png": "[encoded data removed]",
       "text": [
        "<matplotlib.figure.Figure at 0x7f75666de4d0>"
       ]
      }
     ],
     "prompt_number": 83
    },
    {
     "cell_type": "code",
     "collapsed": false,
     "input": [],
     "language": "python",
     "metadata": {},
     "outputs": [
      {
       "metadata": {},
       "output_type": "pyout",
       "prompt_number": 75,
       "text": [
        "array([[-11.98743629, -14.0350914 , -17.02220154, ..., -12.7330389 ,\n",
        "        -15.47779465, -13.86068344],\n",
        "       [-23.14110756, -20.69683647, -20.72541809, ..., -25.33520699,\n",
        "        -17.53855515, -23.7276001 ],\n",
        "       [-26.31014252, -18.29464149, -23.15810394, ..., -23.11983299,\n",
        "        -24.98348236, -19.55099297],\n",
        "       ..., \n",
        "       [-12.83634281, -13.14704514, -19.28448677, ..., -14.70031452,\n",
        "        -16.00646782, -16.56873322],\n",
        "       [-14.28202438, -17.35515594, -23.14443207, ..., -18.50153351,\n",
        "        -18.69036293, -21.84357834],\n",
        "       [  0.        ,   0.        ,   0.        , ...,   0.        ,\n",
        "          0.        ,   0.        ]])"
       ]
      }
     ],
     "prompt_number": 75
    },
    {
     "cell_type": "code",
     "collapsed": false,
     "input": [],
     "language": "python",
     "metadata": {},
     "outputs": []
    }
   ],
   "metadata": {}
  }
 ]
}